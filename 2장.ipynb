{
 "cells": [
  {
   "cell_type": "markdown",
   "metadata": {},
   "source": [
    "130p. 파이썬에서 None은 아무것도 없다는 것을 뜻하는 파이썬의 특별한 값이다. None이 부울로 평가될 때는 False 처럼 보이지만 부울값이 False와는 다르다!<br>"
   ]
  },
  {
   "cell_type": "code",
   "execution_count": null,
   "metadata": {},
   "outputs": [],
   "source": [
    "def is_none(thing):\n",
    "    if thing is None :\n",
    "        print(\"It's None\")\n",
    "    elif thing :\n",
    "        print(\"It's True\")\n",
    "    else :\n",
    "        print(\"It's False\")\n",
    "        "
   ]
  },
  {
   "cell_type": "markdown",
   "metadata": {},
   "source": [
    "109p.\n",
    "if와 else는 참과 거짓인지 확인하는 파이썬의 **선언문 statement**이다.\n",
    "print()는 **내장 함수 built-in function**다."
   ]
  },
  {
   "cell_type": "markdown",
   "metadata": {},
   "source": [
    "112p. Ture 와 False의 구분<br>\n",
    "\n",
    "|**요소**|**False**|\n",
    "|---|---|\n",
    "null　　　　　　 　None <br>\n",
    "정수0　　　　　　　0<br>\n",
    "부동소수점0　　　　0.0 <br>\n",
    "빈 문자열　　　　　'' <br>\n",
    "빈 리스트　　　　　[] <br>\n",
    "빈 튜플　　　　　　() <br>\n",
    "빈 딕셔너리　　　　{} <br>\n",
    "빈 셋　　　　　　　set() <br>\n",
    "\n",
    "이 외에 다른 것들을 True로 간주된다.  (마크다운 스페이스바 '　' 복사하기)"
   ]
  },
  {
   "cell_type": "markdown",
   "metadata": {},
   "source": [
    "- 115p break 확인하기 : else <br>\n",
    "break는 어떤 것을 체크하여 발견했을 경우 종료하는 while 문을 작성할 때 사용한다.<br>\n",
    "반복문이 모두 실행되었지만 발견하지 못했을 경웨는 else가 실행된다"
   ]
  },
  {
   "cell_type": "code",
   "execution_count": 6,
   "metadata": {},
   "outputs": [
    {
     "name": "stdout",
     "output_type": "stream",
     "text": [
      "No even number found\n"
     ]
    }
   ],
   "source": [
    "numbers = [1, 3, 5]\n",
    "position = 0\n",
    "while position < len(numbers):\n",
    "    number = numbers[position]\n",
    "    if number % 2 == 0 :\n",
    "        print('Found even number', number)\n",
    "        break\n",
    "    position += 1\n",
    "else :\n",
    "    print('No even number found')"
   ]
  },
  {
   "cell_type": "markdown",
   "metadata": {},
   "source": [
    "116p. **순회하기: for**<br>\n",
    "파이썬에서 **이터레이터 iterator**는 자주 유용하게 쓰인다. 자료구조의 크기와 구현 방식에 관련없이 자료구조를 순회할 수 있도록 해준다. <br>\n",
    "심지어 바로 생성되는 데이터도 순회할 수 있다. 데이터가 메모리에 맞지 않더라도 **데이터 스트림**을 처리할 수 있도록 허용해준다. <br>"
   ]
  },
  {
   "cell_type": "markdown",
   "metadata": {},
   "source": [
    "리스트, 문자열, 튜플, 딕셔너리, 셋 등과 같이 **순회 가능한 iterable**객체다. <br>"
   ]
  },
  {
   "cell_type": "markdown",
   "metadata": {},
   "source": [
    "<h> 119p. **여러 시퀀스 순회하기: zip()**<br>\n",
    "좋은 순회 iteraion의 묘책이 하나 더 있다. **zip() 함수**를 사용해서 **여러 시퀀스를 병렬로 순회**하는 것이다.<br>\n",
    "여러 시퀀스 중 가장 짧은 시퀀스가 완료되면은 zip() 은 멈춘다."
   ]
  },
  {
   "cell_type": "code",
   "execution_count": 9,
   "metadata": {},
   "outputs": [
    {
     "name": "stdout",
     "output_type": "stream",
     "text": [
      "Monday : drink coffee - eat banana - enjoy tiranisu\n",
      "Tuesday : drink tea - eat orange - enjoy ice cream\n",
      "Wednesday : drink beer - eat peach - enjoy pie\n"
     ]
    }
   ],
   "source": [
    "days = ['Monday', 'Tuesday', 'Wednesday']\n",
    "fruits= ['banana', 'orange', 'peach']\n",
    "drinks = ['coffee', 'tea', 'beer']\n",
    "desserts = ['tiranisu', 'ice cream', 'pie', 'puddding']\n",
    "for day , fruit, drink, dessert in zip(days,fruits,drinks,desserts):\n",
    "    print(day, \": drink\", drink, \"- eat\", fruit, \"- enjoy\", dessert)"
   ]
  },
  {
   "cell_type": "markdown",
   "metadata": {},
   "source": [
    "zip()함수로 여러 시퀀스를 순회하며, 동일한 오프셋에 있는 항목으로부터 튜플을 만들 수 있다.<br>\n",
    "영어와 프랑스어 단어에 대응하는 두 개의 튜플을 만들자. <br>"
   ]
  },
  {
   "cell_type": "code",
   "execution_count": 12,
   "metadata": {},
   "outputs": [
    {
     "data": {
      "text/plain": [
       "[('Monday', 'Lundi'), ('Tuseday', 'Mardi'), ('Wednesday', 'Mercredi')]"
      ]
     },
     "execution_count": 12,
     "metadata": {},
     "output_type": "execute_result"
    }
   ],
   "source": [
    "english = 'Monday' , 'Tuseday' , 'Wednesday'\n",
    "french = 'Lundi', 'Mardi', 'Mercredi'\n",
    "list(zip(english, french))"
   ]
  },
  {
   "cell_type": "code",
   "execution_count": 13,
   "metadata": {},
   "outputs": [
    {
     "data": {
      "text/plain": [
       "{'Monday': 'Lundi', 'Tuseday': 'Mardi', 'Wednesday': 'Mercredi'}"
      ]
     },
     "execution_count": 13,
     "metadata": {},
     "output_type": "execute_result"
    }
   ],
   "source": [
    "dict(zip(english, french))"
   ]
  },
  {
   "cell_type": "markdown",
   "metadata": {},
   "source": [
    "- 121p. **컴프리헨션 comprehension** (함축)  <br>\n",
    "컴프리헨션은 하나 이상의 이터레이터로부터 파이썬의 자료구조를 만드는 콤팩트한 방법이다.<br>\n",
    "때때로 컴프리헨션을 사용하는 것은 초급 이상의 단계에서 파이썬을 어느 정도 알고 있다는 것을 의미한다.<br>\n",
    "리스트 컴프리헨션 : [표현식 for 항목 in 순회 가능한 객체 if 조건] <br>\n",
    "딕셔너리 컴프리헨션 : {키_표현식 : 값 표현식 for 표현식 in 순회 가능한 객체} <br>\n",
    "셋 컴프리헨션 : {표현식 for 표현식 in 순회 가능한 객체}"
   ]
  },
  {
   "cell_type": "code",
   "execution_count": 21,
   "metadata": {},
   "outputs": [
    {
     "data": {
      "text/plain": [
       "{'t': 2, 'r': 1, 'e': 2, 'l': 1, 's': 1}"
      ]
     },
     "execution_count": 21,
     "metadata": {},
     "output_type": "execute_result"
    }
   ],
   "source": [
    "word = 'letters'\n",
    "{letter :  word.count(letter) for letter in set(word)} # word에서 t를 2번 세지 않기 위해서 set()을 사용"
   ]
  },
  {
   "cell_type": "code",
   "execution_count": 22,
   "metadata": {},
   "outputs": [
    {
     "data": {
      "text/plain": [
       "{1, 4}"
      ]
     },
     "execution_count": 22,
     "metadata": {},
     "output_type": "execute_result"
    }
   ],
   "source": [
    "{number for number in range(1,6) if number %  3 == 1}"
   ]
  },
  {
   "cell_type": "markdown",
   "metadata": {},
   "source": [
    "-<h> **제너레이터 컴프리헨션** <br>\n",
    " **튜플은 컴프리헨션이 없다!** 라스트 컴프리헨션의 대괄호([])를 괄호(())로 바뀌서 사용하면 튜플 컴프리헨션이 생성될 것이라고 생각할 것이다.<br>\n",
    "하지만 그것은 **제너레이터 컴프리헨션 generator comprehension**이다. <br>\n",
    "그리고 이것은 **제너레이터 객체를 반환**한다."
   ]
  },
  {
   "cell_type": "code",
   "execution_count": 25,
   "metadata": {},
   "outputs": [
    {
     "name": "stdout",
     "output_type": "stream",
     "text": [
      "<class 'generator'>\n"
     ]
    }
   ],
   "source": [
    "number_thing = (number for number in range(1,6))\n",
    "print(type(number_thing))"
   ]
  },
  {
   "cell_type": "markdown",
   "metadata": {},
   "source": [
    "**제너레이터는 한번만 실행될 수 있다.** 리스트 셋 문자열 딕셔너리는 메모리에 존재하지만, 제너레이터는 즉석에서 그 값을 생성하고, <br>\n",
    "이터레이터를 통해서 **한 번에 값을 하나씩 처리한다** 제너레이터는 이 값을 기억하지 않으므로 **다시 시작하거나 제너레이터를 백업할 수 없다.**<br>\n",
    "{my thinking : 제너레이터는 메모리영역 중 code 영역의 값을 토대로 하나씩 값을 가져온다. 이 때 마지막을 사용했던 값 외에 제너레이터는 기억하지 않는다.}"
   ]
  },
  {
   "cell_type": "markdown",
   "metadata": {},
   "source": [
    "### 함수 131p.\n",
    "4.7.3 기본 매개변수 지정. 기본 인자값은 함수가 실행될 때 계산되지 않고, 함수를 **정의할 때 계산**된다. <br>\n",
    "리스트 혹은 딕셔너리와 같은 변경 가능한 데이터 타입을 기본 인자로 사용할 때 실수를 하게 된다."
   ]
  },
  {
   "cell_type": "code",
   "execution_count": 31,
   "metadata": {},
   "outputs": [
    {
     "name": "stdout",
     "output_type": "stream",
     "text": [
      "['a']\n",
      "['a', 'b']\n"
     ]
    }
   ],
   "source": [
    "result = []\n",
    "def buggy(arg, result =[]):\n",
    "    result.append(arg)\n",
    "    print(result)\n",
    "buggy('a')\n",
    "buggy('b')"
   ]
  },
  {
   "cell_type": "code",
   "execution_count": 32,
   "metadata": {},
   "outputs": [
    {
     "name": "stdout",
     "output_type": "stream",
     "text": [
      "['b', 'b']\n"
     ]
    }
   ],
   "source": [
    "buggy('b', ['b'])"
   ]
  },
  {
   "cell_type": "code",
   "execution_count": 37,
   "metadata": {},
   "outputs": [
    {
     "name": "stdout",
     "output_type": "stream",
     "text": [
      "['a']\n",
      "['b']\n"
     ]
    }
   ],
   "source": [
    "# 첫 번째 인자 호출을 가리키기 위해 매개변수에 다른 값을 넣어서 수정할 수 있다.\n",
    "result = []\n",
    "def buggy(arg, result = None):\n",
    "    if result is None :\n",
    "        result = []\n",
    "    result.append(arg)\n",
    "    print(result)\n",
    "buggy('a')\n",
    "buggy('b')"
   ]
  },
  {
   "cell_type": "markdown",
   "metadata": {},
   "source": []
  },
  {
   "cell_type": "code",
   "execution_count": null,
   "metadata": {},
   "outputs": [],
   "source": []
  }
 ],
 "metadata": {
  "kernelspec": {
   "display_name": "Python 3",
   "language": "python",
   "name": "python3"
  },
  "language_info": {
   "codemirror_mode": {
    "name": "ipython",
    "version": 3
   },
   "file_extension": ".py",
   "mimetype": "text/x-python",
   "name": "python",
   "nbconvert_exporter": "python",
   "pygments_lexer": "ipython3",
   "version": "3.8.5"
  }
 },
 "nbformat": 4,
 "nbformat_minor": 5
}
