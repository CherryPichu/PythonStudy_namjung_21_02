{
 "cells": [
  {
   "cell_type": "markdown",
   "metadata": {},
   "source": [
    "## **일등 시민: 함수** 136p\n",
    "**'모든 것이 객체(object)다'** 라는 파이썬 철학은 중요하다. 객체는 숫자, 문자열, 리스트, 딕셔너리, 그리고 함수를 포함한다.<br>\n",
    "파이썬에서 함수는 **first-class citizen(일등 시민)**이다. 이 뜻은 <br>\n",
    "\n",
    "1. **함수를 변수에 할당할 수 있고,** \n",
    "2. **다른 함수에서 이를 인자로 쓸 수 있으며,**\n",
    "3. **함수에서 이를 반환할 수 있다는 것이다.**<br>\n",
    "\n"
   ]
  },
  {
   "cell_type": "markdown",
   "metadata": {},
   "source": [
    "- 내부 함수 inner function 138p<br>\n",
    "내부(inner)함수는 루프나 코드 중복을 피하기 위해서 또 다른 함수 내에서 복잡한 작업을 한 번 이상 수행할 때 유용하게 사용된다.<br>\n",
    "다음 문자열 예제에서 내부 함수는 인자에 텍스트를 붙여 준다.<br>"
   ]
  },
  {
   "cell_type": "code",
   "execution_count": 4,
   "metadata": {},
   "outputs": [
    {
     "data": {
      "text/plain": [
       "\"We are the knights who say 'Ni!'\""
      ]
     },
     "execution_count": 4,
     "metadata": {},
     "output_type": "execute_result"
    }
   ],
   "source": [
    "def knights(saying):\n",
    "    def inner(quote):\n",
    "        return \"We are the knights who say '%s'\"% quote\n",
    "    return inner(saying)\n",
    "knights('Ni!')"
   ]
  },
  {
   "cell_type": "markdown",
   "metadata": {},
   "source": [
    "### **클로져** 139p\n",
    "**내부 함수는 클로저(closure)처럼 행동할 수 있다.** **클로져**는 다른 함수에 의해 **동적으로 생성**된다.<br>\n",
    "그리고 바까 함수로부터 생성된 변수값을 변경하고, 저장할 수 있는 함수다.<br>"
   ]
  },
  {
   "cell_type": "code",
   "execution_count": 8,
   "metadata": {},
   "outputs": [
    {
     "name": "stdout",
     "output_type": "stream",
     "text": [
      "<class 'function'>\n",
      "<class 'function'>\n",
      "<function knight2.<locals>.inner2 at 0x0000025AD8112790>\n",
      "<function knight2.<locals>.inner2 at 0x0000025AD8112700>\n",
      "We are the knights who say : 'Duck'\n",
      "We are the knights who say : 'Hasenpfeffer'\n"
     ]
    }
   ],
   "source": [
    "def knight2(saying):\n",
    "    def inner2():\n",
    "        return \"We are the knights who say : '%s'\"%saying\n",
    "    return inner2\n",
    "\n",
    "a = knight2('Duck')\n",
    "b = knight2('Hasenpfeffer')\n",
    "print(type(a))\n",
    "print(type(b)) # 함수 타입이다.\n",
    "print(a)\n",
    "print(b) # 이들은 함수지만, 클로져이기도 하다.\n",
    "print(a())\n",
    "print(b())"
   ]
  },
  {
   "cell_type": "markdown",
   "metadata": {},
   "source": [
    "#### 익명 함수: lambda() 140p \n",
    "파이썬에서 람다 함수(lambda function)는 단일문으로 표현되는 **익명 함수 anonymous function**다. <br>\n",
    " - word: words 리스트\n",
    " - func: word의 각 word 문자열에 적용되는 함수"
   ]
  },
  {
   "cell_type": "code",
   "execution_count": 17,
   "metadata": {},
   "outputs": [
    {
     "name": "stdout",
     "output_type": "stream",
     "text": [
      "Thud!\n",
      "Meow!\n",
      "Thud!\n",
      "Hiss!\n",
      "-----람다식----\n",
      "Thud!\n",
      "Meow!\n",
      "Thud!\n",
      "Hiss!\n"
     ]
    }
   ],
   "source": [
    "def edit_stroy(words, func):\n",
    "    for word in words:\n",
    "        print(func(word))\n",
    "stairs = ['thud', 'meow', 'thud', 'hiss']\n",
    "def enliven(words): # 첫 글자를 대문자로 만들고 느낌표 붙이기\n",
    "    return words.capitalize() + \"!\"\n",
    "edit_stroy(stairs, enliven)\n",
    "print(\"-----람다식----\")\n",
    "edit_story(stairs, lambda word: word.capitalize() + \"!\") # 람다식을 통해 enliven()함수를 간단하게 바꿀 수 있다."
   ]
  },
  {
   "cell_type": "markdown",
   "metadata": {},
   "source": [
    "대부분의 경우우 enliven()과 같은 실제 함수를 사용하는 것이 람다를 사용하는 것보다 훨씬 더 명확하다. 람다는 많은 작은 함수를 점의하고, <br>\n",
    "이들을 호출해서 얻은 모든 결과값을 저장해야 하는 경우 유용하다. **특히 콜백함수를 정의하는 유저 인터페이스(GUI)에서 람다를 사용할 수 있다.**"
   ]
  },
  {
   "cell_type": "markdown",
   "metadata": {},
   "source": [
    "#### **제너레이터 (Generator)** 141p.\n",
    "제너레이ㅓ는 파이썬의 시컨스를 생성하는 객체이다. 제너레이터로, 전체 시퀀스를 한 번에 메모리에 생성하고 정렬할 필요 없이, <br>\n",
    "**잠재적으로 아주 큰 시퀀스를 순회할 수 있다.** 대표적으로 우리는 제너레이터 중 하나인 **range()** 함수를 사용했다. <br>\n",
    "파이썬2에서 range()는 메모리에 제한적인 리스트를 반환했다. 파이썬2의 xrange()가 있는데, 이는 파이썬3의 일반적인 range()가 되었다. <br>"
   ]
  },
  {
   "cell_type": "code",
   "execution_count": 20,
   "metadata": {},
   "outputs": [
    {
     "data": {
      "text/plain": [
       "5050"
      ]
     },
     "execution_count": 20,
     "metadata": {},
     "output_type": "execute_result"
    }
   ],
   "source": [
    "sum(range(1,101))"
   ]
  },
  {
   "cell_type": "markdown",
   "metadata": {},
   "source": [
    "제너레이터를 순회할 때마다 마지막으로 호출된 항목을 기억하고 다음 값을 반환한다. **제너레이터는 일반 함수와 다르다.**<br>\n",
    "일반 함수는 이전 호출데 대한 메모리가 없도, 항상 똑같은 상태로 첫번째 라인부터 수행한다. <br>\n",
    "**잠재적으로 큰 시퀀스를 생성**하고, **제너레이터 컴프리헨션에 대한 코드가 아주 긴 경우**에는 **제너레이터 함수를 사용하면 된다!** <br>\n",
    "이것은 일반 함수지만 return 문으로 값을 반환하지 않고, **yield 문**으로 값을 반환한다! <br>\n",
    "우리만의 range()함수를 만들어보자."
   ]
  },
  {
   "cell_type": "code",
   "execution_count": 35,
   "metadata": {},
   "outputs": [
    {
     "data": {
      "text/plain": [
       "<function __main__.my_range(first=0, last=10, step=1)>"
      ]
     },
     "execution_count": 35,
     "metadata": {},
     "output_type": "execute_result"
    }
   ],
   "source": [
    "def my_range(first=0, last=10, step=1): # 주의! 함수가 실행하기전에 함수안에 문법이 틀려도 오류가 뜨지 않으니 디버깅을 잘하자!\n",
    "    number = first\n",
    "    while number < last :\n",
    "        yield number\n",
    "        number += step\n",
    "my_range"
   ]
  },
  {
   "cell_type": "code",
   "execution_count": 36,
   "metadata": {},
   "outputs": [
    {
     "data": {
      "text/plain": [
       "<generator object my_range at 0x0000025ADA212CF0>"
      ]
     },
     "execution_count": 36,
     "metadata": {},
     "output_type": "execute_result"
    }
   ],
   "source": [
    "# 다음과 같이 함수를 실행한다.\n",
    "ranger = my_range(1,5)\n",
    "ranger"
   ]
  },
  {
   "cell_type": "code",
   "execution_count": 37,
   "metadata": {},
   "outputs": [
    {
     "name": "stdout",
     "output_type": "stream",
     "text": [
      "1\n",
      "2\n",
      "3\n",
      "4\n"
     ]
    }
   ],
   "source": [
    "for x in ranger:\n",
    "    print(x)"
   ]
  },
  {
   "cell_type": "markdown",
   "metadata": {},
   "source": [
    "### **데커레이터** 142p\n",
    "**데커레이터 decorator 는 하나의 함수를 취해서 또 다른 함수를 반환하는 함수다. <br>\n",
    "데커레이터를 사용하기 위해 다음과 같은 방법을 사용한다.\n",
    " - \\*args와 \\**kwargs\n",
    " - 내부 함수\n",
    " - 함수 인자\n",
    "document_it() 함수는 다음과 가이 데커레이터를 정의한다.\n",
    " - 함수 이름과 인자값을 출력한다.\n",
    " - 인자로 함수를 실행한다.\n",
    " - 결과를 출력한다.\n",
    " - 수정된 함수를 사용할 수 있도록 반환한다."
   ]
  },
  {
   "cell_type": "code",
   "execution_count": 44,
   "metadata": {},
   "outputs": [],
   "source": [
    "def document_it(func):\n",
    "    def new_function(*args, **kwargs):\n",
    "        print('Running function :', func.__name__)\n",
    "        print('Positional :', args)\n",
    "        print('Keyword argument :', kwargs)\n",
    "        print('Running function :', **kwargs)\n",
    "        result = func(*args, **kwargs)\n",
    "        print('Result :',result)\n",
    "        return result\n",
    "    return new_function"
   ]
  },
  {
   "cell_type": "code",
   "execution_count": 45,
   "metadata": {},
   "outputs": [
    {
     "name": "stdout",
     "output_type": "stream",
     "text": [
      "Running function : add_ints\n",
      "Positional : (3, 5)\n",
      "Keyword argument : {}\n",
      "Running function :\n",
      "Result : 8\n"
     ]
    },
    {
     "data": {
      "text/plain": [
       "8"
      ]
     },
     "execution_count": 45,
     "metadata": {},
     "output_type": "execute_result"
    }
   ],
   "source": [
    "def add_ints(a,b):\n",
    "    return a+b\n",
    "add_ints(3,5)\n",
    "cooler_add_ints = document_it(add_ints) # 데커레이터를 수동으로 활당\n",
    "cooler_add_ints(3,5)"
   ]
  },
  {
   "cell_type": "code",
   "execution_count": null,
   "metadata": {},
   "outputs": [],
   "source": []
  }
 ],
 "metadata": {
  "kernelspec": {
   "display_name": "Python 3",
   "language": "python",
   "name": "python3"
  },
  "language_info": {
   "codemirror_mode": {
    "name": "ipython",
    "version": 3
   },
   "file_extension": ".py",
   "mimetype": "text/x-python",
   "name": "python",
   "nbconvert_exporter": "python",
   "pygments_lexer": "ipython3",
   "version": "3.8.5"
  }
 },
 "nbformat": 4,
 "nbformat_minor": 4
}
