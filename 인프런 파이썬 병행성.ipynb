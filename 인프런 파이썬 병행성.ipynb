{
 "cells": [
  {
   "cell_type": "markdown",
   "metadata": {},
   "source": [
    "## **병행성 - 기본**\n",
    "**이터레이터**와 **제네레이터**\n",
    "간단히 밀해서, a generator is a function that returns an object (iterator) which we can iterate over.<br> \n",
    "제네레이터는 말 그대로 반복가능한 객체를 리턴하는 역활을 하면 그 것은 반복가능한 객체(iterate)라는 것이다.<br>\n",
    "파이썬에서 반복 가능한 타입 <br>\n",
    " - collections, text file, list. Dict, Set, Tuple, unpacking, *args... : iterable\n",
    "\n"
   ]
  },
  {
   "cell_type": "code",
   "execution_count": 11,
   "metadata": {},
   "outputs": [
    {
     "name": "stdout",
     "output_type": "stream",
     "text": [
      "A\n",
      "B\n",
      "C\n",
      "E\n",
      "D\n",
      "E\n",
      "F\n",
      "G\n"
     ]
    }
   ],
   "source": [
    "# 반복 가능한 이유? -> iter(x) 함수 호출\n",
    "t = 'ABCEDEFG' # text 파일 \n",
    "for c in t : # t가 iter함수를 호출해서 next를 통해서 하나 하나 출력을 받아냈다.\n",
    "    print(c)"
   ]
  },
  {
   "cell_type": "code",
   "execution_count": 12,
   "metadata": {},
   "outputs": [
    {
     "name": "stdout",
     "output_type": "stream",
     "text": [
      "['__class__', '__delattr__', '__dir__', '__doc__', '__eq__', '__format__', '__ge__', '__getattribute__', '__gt__', '__hash__', '__init__', '__init_subclass__', '__iter__', '__le__', '__length_hint__', '__lt__', '__ne__', '__new__', '__next__', '__reduce__', '__reduce_ex__', '__repr__', '__setattr__', '__setstate__', '__sizeof__', '__str__', '__subclasshook__']\n"
     ]
    }
   ],
   "source": [
    "# while\n",
    "w = iter(t)\n",
    "print(dir(w)) # '__iter__','__next__' 을 상속 받음!"
   ]
  },
  {
   "cell_type": "code",
   "execution_count": 13,
   "metadata": {},
   "outputs": [
    {
     "name": "stdout",
     "output_type": "stream",
     "text": [
      "A\n",
      "B\n",
      "C\n"
     ]
    }
   ],
   "source": [
    "print(next(w))\n",
    "print(next(w))\n",
    "print(next(w))"
   ]
  },
  {
   "cell_type": "code",
   "execution_count": 14,
   "metadata": {},
   "outputs": [
    {
     "name": "stdout",
     "output_type": "stream",
     "text": [
      "E\n",
      "D\n",
      "E\n",
      "F\n",
      "G\n"
     ]
    },
    {
     "ename": "StopIteration",
     "evalue": "",
     "output_type": "error",
     "traceback": [
      "\u001b[1;31m---------------------------------------------------------------------------\u001b[0m",
      "\u001b[1;31mStopIteration\u001b[0m                             Traceback (most recent call last)",
      "\u001b[1;32m<ipython-input-14-75aa54f6661b>\u001b[0m in \u001b[0;36m<module>\u001b[1;34m\u001b[0m\n\u001b[0;32m      4\u001b[0m \u001b[0mprint\u001b[0m\u001b[1;33m(\u001b[0m\u001b[0mnext\u001b[0m\u001b[1;33m(\u001b[0m\u001b[0mw\u001b[0m\u001b[1;33m)\u001b[0m\u001b[1;33m)\u001b[0m\u001b[1;33m\u001b[0m\u001b[1;33m\u001b[0m\u001b[0m\n\u001b[0;32m      5\u001b[0m \u001b[0mprint\u001b[0m\u001b[1;33m(\u001b[0m\u001b[0mnext\u001b[0m\u001b[1;33m(\u001b[0m\u001b[0mw\u001b[0m\u001b[1;33m)\u001b[0m\u001b[1;33m)\u001b[0m\u001b[1;33m\u001b[0m\u001b[1;33m\u001b[0m\u001b[0m\n\u001b[1;32m----> 6\u001b[1;33m \u001b[0mprint\u001b[0m\u001b[1;33m(\u001b[0m\u001b[0mnext\u001b[0m\u001b[1;33m(\u001b[0m\u001b[0mw\u001b[0m\u001b[1;33m)\u001b[0m\u001b[1;33m)\u001b[0m\u001b[1;33m\u001b[0m\u001b[1;33m\u001b[0m\u001b[0m\n\u001b[0m",
      "\u001b[1;31mStopIteration\u001b[0m: "
     ]
    }
   ],
   "source": [
    "print(next(w))\n",
    "print(next(w))\n",
    "print(next(w))\n",
    "print(next(w))\n",
    "print(next(w)) # StopIteration:  -> 더이상 반환할 값이 없다!\n",
    "print(next(w))"
   ]
  },
  {
   "cell_type": "code",
   "execution_count": 18,
   "metadata": {},
   "outputs": [
    {
     "name": "stdout",
     "output_type": "stream",
     "text": [
      "A\n",
      "B\n",
      "C\n",
      "E\n",
      "D\n",
      "E\n",
      "F\n",
      "G\n",
      "\n"
     ]
    }
   ],
   "source": [
    "w = iter(t)\n",
    "while True: # 이터레이터의 구조 for c in t : 와 같다!\n",
    "    try:\n",
    "        print(next(w))\n",
    "    except StopIteration :\n",
    "        break\n",
    "print()"
   ]
  },
  {
   "cell_type": "markdown",
   "metadata": {},
   "source": [
    "위 코드처럼 사용하면 불편하다. **추상적으로만 이해하자!**\n",
    "<br><br>\n",
    "반복형 확인하기\n",
    " - **hasattr : 상속 받고 있으면 True를 리턴**"
   ]
  },
  {
   "cell_type": "code",
   "execution_count": 21,
   "metadata": {},
   "outputs": [
    {
     "name": "stdout",
     "output_type": "stream",
     "text": [
      "True\n"
     ]
    }
   ],
   "source": [
    "print(hasattr(t, '__iter__')) # t가 __iter_를 상속받고 있으면 True 출력하기"
   ]
  },
  {
   "cell_type": "code",
   "execution_count": 22,
   "metadata": {},
   "outputs": [
    {
     "name": "stdout",
     "output_type": "stream",
     "text": [
      "True\n"
     ]
    }
   ],
   "source": [
    "from collections import abc\n",
    "print(isinstance(t, abc.Iterable)) # abc.Iterable: 추상 클래스 Iterable"
   ]
  },
  {
   "cell_type": "code",
   "execution_count": 38,
   "metadata": {},
   "outputs": [
    {
     "name": "stdout",
     "output_type": "stream",
     "text": [
      "WordSplit(['Do', 'today', 'what', 'you', 'could', 'do', 'tommorrow'])\n",
      "Called __next__\n",
      "Do\n",
      "Called __next__\n",
      "today\n",
      "Called __next__\n",
      "what\n",
      "Called __next__\n",
      "you\n",
      "Called __next__\n",
      "could\n",
      "Called __next__\n",
      "do\n",
      "Called __next__\n",
      "tommorrow\n"
     ]
    }
   ],
   "source": [
    "class WordSplitter:\n",
    "    def __init__(self, text):\n",
    "        self._idx = 0\n",
    "        self._text = text.split(' ')\n",
    "        \n",
    "    def __next__(self):\n",
    "        print('Called __next__')\n",
    "        try:\n",
    "            word = self._text[self._idx]\n",
    "        except IndexError:\n",
    "            raise StopIteration('Stopped Iteration. ^_^*')\n",
    "        self._idx += 1\n",
    "        return word\n",
    "    \n",
    "    def __repr__(self):\n",
    "        return \"WordSplit(%s)\"%(self._text)\n",
    "    \n",
    "wi = WordSplitter('Do today what you could do tommorrow')\n",
    "print(wi)\n",
    "print(next(wi))\n",
    "print(next(wi))\n",
    "print(next(wi))\n",
    "print(next(wi))\n",
    "print(next(wi))\n",
    "print(next(wi))\n",
    "print(next(wi)) \n",
    "# print(next(wi))# error : Stopped Iteration. ^_^*"
   ]
  },
  {
   "cell_type": "markdown",
   "metadata": {},
   "source": [
    "## Generator 패턴\n",
    "1. **지능형 리스트, 딕셔너리, 집합 -> 데이터 양 증가 증가 후 메모리 사용량 증가 -> 제너레이터 권장!**\n",
    "2. **단위 실행 가능한 코루틴(Corotine) 구현과 연동\n",
    "3. **작은 메모리 조각 사용**\n",
    "**★★ yield : 인덱스를 사용하지 않아도 다음에 반환해야 하는 값에 대한 상태를 기억함**\n",
    "my note : yield는 자바에서 쓰레드의 양보로 사용. 그러면 자바와 유사한가?"
   ]
  },
  {
   "cell_type": "code",
   "execution_count": 47,
   "metadata": {},
   "outputs": [
    {
     "name": "stdout",
     "output_type": "stream",
     "text": [
      "<generator object WordSplitGenerator.__iter__ at 0x00000230D482F660> WordSpliGenerator(['Do', 'today', 'what', 'you', 'could', 'do', 'tommorrow'])\n",
      "Do\n",
      "today\n",
      "what\n",
      "you\n",
      "could\n",
      "do\n",
      "tommorrow\n"
     ]
    }
   ],
   "source": [
    "class WordSplitGenerator:\n",
    "    def __init__(self, text):\n",
    "        self._text = text.split(' ')\n",
    "    \n",
    "    def __iter__(self):\n",
    "        for word in self._text:\n",
    "            yield word \n",
    "        return # 필요 없기는 함\n",
    "    \n",
    "    def __repr__(self):\n",
    "        return \"WordSpliGenerator(%s)\"%(self._text)\n",
    "\n",
    "wg = WordSplitGenerator('Do today what you could do tommorrow')\n",
    "\n",
    "wt = iter(wg)\n",
    "\n",
    "print(wt, wg) # .__iter__\n",
    "\n",
    "print(next(wt))\n",
    "print(next(wt))\n",
    "print(next(wt))\n",
    "print(next(wt))\n",
    "print(next(wt))\n",
    "print(next(wt))\n",
    "print(next(wt))\n",
    "# print(next(wt)) # 에러 : StopIteration  "
   ]
  },
  {
   "cell_type": "markdown",
   "metadata": {},
   "source": [
    " - **병행성(Concurrency)** : 한 컴퓨터가 여러 일을 동시에 수행 -> 단일 프로그램 안에서 여러 일을 쉽게 해결 <br>\n",
    "   (**파이썬의 큰 장점 : CPU는 하나지만 마치 동시에 일하는 것처럼 보이게 만듬(동시성)** ex) 클로저, 제너레이터 etc..)\n",
    " \n",
    " - **병렬성(Parallelism)** : 여러 컴퓨터가 여러 작업을 동시에 수행 (동시에 모든 작업을 해서 취합을 한 곳에서) -> 속도\n",
    " "
   ]
  },
  {
   "cell_type": "code",
   "execution_count": 1,
   "metadata": {},
   "outputs": [
    {
     "name": "stdout",
     "output_type": "stream",
     "text": [
      "<generator object generator_ex1 at 0x00000257A180BEB0>\n",
      "Start\n",
      "A Point\n",
      "Continue\n",
      "B Point\n",
      "End\n"
     ]
    },
    {
     "ename": "StopIteration",
     "evalue": "",
     "output_type": "error",
     "traceback": [
      "\u001b[1;31m---------------------------------------------------------------------------\u001b[0m",
      "\u001b[1;31mStopIteration\u001b[0m                             Traceback (most recent call last)",
      "\u001b[1;32m<ipython-input-1-c15c8b7d4b85>\u001b[0m in \u001b[0;36m<module>\u001b[1;34m\u001b[0m\n\u001b[0;32m     12\u001b[0m \u001b[0mprint\u001b[0m\u001b[1;33m(\u001b[0m\u001b[0mnext\u001b[0m\u001b[1;33m(\u001b[0m\u001b[0mtemp\u001b[0m\u001b[1;33m)\u001b[0m\u001b[1;33m)\u001b[0m\u001b[1;33m\u001b[0m\u001b[1;33m\u001b[0m\u001b[0m\n\u001b[0;32m     13\u001b[0m \u001b[0mprint\u001b[0m\u001b[1;33m(\u001b[0m\u001b[0mnext\u001b[0m\u001b[1;33m(\u001b[0m\u001b[0mtemp\u001b[0m\u001b[1;33m)\u001b[0m\u001b[1;33m)\u001b[0m\u001b[1;33m\u001b[0m\u001b[1;33m\u001b[0m\u001b[0m\n\u001b[1;32m---> 14\u001b[1;33m \u001b[0mprint\u001b[0m\u001b[1;33m(\u001b[0m\u001b[0mnext\u001b[0m\u001b[1;33m(\u001b[0m\u001b[0mtemp\u001b[0m\u001b[1;33m)\u001b[0m\u001b[1;33m)\u001b[0m\u001b[1;33m\u001b[0m\u001b[1;33m\u001b[0m\u001b[0m\n\u001b[0m",
      "\u001b[1;31mStopIteration\u001b[0m: "
     ]
    }
   ],
   "source": [
    "# Generator Ex1\n",
    "def generator_ex1():\n",
    "    print('Start')\n",
    "    yield 'A Point' # 네이버에서 크롤링 (return 역활)\n",
    "    print('Continue')\n",
    "    yield 'B Point' # 구글에서 크롤링\n",
    "    print('End')\n",
    "    \n",
    "temp = iter(generator_ex1())\n",
    "\n",
    "print(temp) #파이썬은 함수가 일급객체\n",
    "print(next(temp))\n",
    "print(next(temp))\n",
    "print(next(temp))"
   ]
  },
  {
   "cell_type": "code",
   "execution_count": 2,
   "metadata": {},
   "outputs": [
    {
     "name": "stdout",
     "output_type": "stream",
     "text": [
      "Start\n",
      "A Point\n",
      "Continue\n",
      "B Point\n",
      "End\n"
     ]
    }
   ],
   "source": [
    "for v in generator_ex1() :\n",
    "    print(v)"
   ]
  },
  {
   "cell_type": "markdown",
   "metadata": {},
   "source": [
    "### **제너레이터 컴프리헨션**\n",
    " **튜플은 컴프리헨션이 없다!** 라스트 컴프리헨션의 대괄호([])를 괄호(())로 바뀌서 사용하면 튜플 컴프리헨션이 생성될 것이라고 생각할 것이다.<br>\n",
    "하지만 그것은 **제너레이터 컴프리헨션 generator comprehension**이다. <br>\n",
    "그리고 이것은 **제너레이터 객체를 반환**한다.\n",
    "\n",
    "**Generator Ex2**"
   ]
  },
  {
   "cell_type": "code",
   "execution_count": 12,
   "metadata": {},
   "outputs": [
    {
     "name": "stdout",
     "output_type": "stream",
     "text": [
      "Start\n",
      "Continue\n",
      "End\n",
      "['A PointA PointA Point', 'B PointB PointB Point']\n",
      "<generator object <genexpr> at 0x00000257A1129EB0>\n"
     ]
    }
   ],
   "source": [
    "\n",
    "temp1 = [x  * 3 for x in generator_ex1()]\n",
    "temp2 = (x  * 3 for x in generator_ex1()) # 제너레이터 컴프리헨션, 제너레이터 객체를 반환한다.\n",
    "print(temp1)\n",
    "print(temp2)"
   ]
  },
  {
   "cell_type": "code",
   "execution_count": 9,
   "metadata": {},
   "outputs": [
    {
     "name": "stdout",
     "output_type": "stream",
     "text": [
      "Start\n",
      "A PointA PointA Point\n",
      "Continue\n",
      "B PointB PointB Point\n",
      "End\n"
     ]
    }
   ],
   "source": [
    "for i in temp2:\n",
    "    print(i)"
   ]
  },
  {
   "cell_type": "markdown",
   "metadata": {},
   "source": [
    "### **Generator Ex3(중요 함수)** <br>\n",
    "ex) filterfalse, takewhile, accmulate, chain, product, groupby .. <br>"
   ]
  },
  {
   "cell_type": "code",
   "execution_count": 19,
   "metadata": {},
   "outputs": [
    {
     "name": "stdout",
     "output_type": "stream",
     "text": [
      "1\n",
      "3.5\n",
      "6.0\n",
      "8.5\n",
      "11.0\n",
      "13.5\n",
      "16.0\n"
     ]
    }
   ],
   "source": [
    "import itertools\n",
    "\n",
    "gen1 = itertools.count(1, 2.5)\n",
    "\n",
    "print(next(gen1))\n",
    "print(next(gen1))\n",
    "print(next(gen1))\n",
    "print(next(gen1))\n",
    "print(next(gen1))\n",
    "print(next(gen1))\n",
    "print(next(gen1))\n",
    "# 무한 ...."
   ]
  },
  {
   "cell_type": "code",
   "execution_count": 20,
   "metadata": {},
   "outputs": [],
   "source": [
    "gen2 = itertools.takewhile(lambda n : n < 1000, itertools.count(1, 2.5))"
   ]
  },
  {
   "cell_type": "code",
   "execution_count": 25,
   "metadata": {},
   "outputs": [],
   "source": [
    "for v in gen2 :\n",
    "#     print(v)\n",
    "    pass"
   ]
  },
  {
   "cell_type": "markdown",
   "metadata": {},
   "source": [
    "필터 반대 <br>"
   ]
  },
  {
   "cell_type": "code",
   "execution_count": 27,
   "metadata": {},
   "outputs": [
    {
     "name": "stdout",
     "output_type": "stream",
     "text": [
      "3\n",
      "4\n",
      "5\n"
     ]
    }
   ],
   "source": [
    "gen3 = itertools.filterfalse(lambda n : n < 3, [1,2,3,4,5])\n",
    "for v in gen3 :\n",
    "    print(v)"
   ]
  },
  {
   "cell_type": "markdown",
   "metadata": {},
   "source": [
    "누적 합격 : accumulate"
   ]
  },
  {
   "cell_type": "code",
   "execution_count": 32,
   "metadata": {},
   "outputs": [
    {
     "name": "stdout",
     "output_type": "stream",
     "text": [
      "1\n",
      "3\n",
      "6\n",
      "10\n",
      "15\n",
      "21\n",
      "28\n",
      "36\n",
      "45\n"
     ]
    }
   ],
   "source": [
    "gen4 = itertools.accumulate([x for x in range(1,10)]) # sum()\n",
    "for v in gen4:\n",
    "    print(v)"
   ]
  },
  {
   "cell_type": "markdown",
   "metadata": {},
   "source": [
    "**연결1**"
   ]
  },
  {
   "cell_type": "code",
   "execution_count": 37,
   "metadata": {},
   "outputs": [
    {
     "name": "stdout",
     "output_type": "stream",
     "text": [
      "['A', 'B', 'C', 'D', 'E', 1, 3, 5, 7, 9]\n"
     ]
    }
   ],
   "source": [
    "gen5 = itertools.chain('ABCDE', range(1, 11, 2))\n",
    "print(list(gen5))"
   ]
  },
  {
   "cell_type": "markdown",
   "metadata": {},
   "source": [
    "**연결2**"
   ]
  },
  {
   "cell_type": "code",
   "execution_count": 40,
   "metadata": {},
   "outputs": [
    {
     "name": "stdout",
     "output_type": "stream",
     "text": [
      "[(0, 'A'), (1, 'B'), (2, 'C'), (3, 'D'), (4, 'E')]\n"
     ]
    }
   ],
   "source": [
    "gen6 = itertools.chain(enumerate('ABCDE')) # enumerate 인덱스 붙여서 출력\n",
    "print(list(gen6))"
   ]
  },
  {
   "cell_type": "markdown",
   "metadata": {},
   "source": [
    "**개별**"
   ]
  },
  {
   "cell_type": "code",
   "execution_count": 42,
   "metadata": {},
   "outputs": [
    {
     "name": "stdout",
     "output_type": "stream",
     "text": [
      "[('A',), ('B',), ('C',), ('D',), ('E',)]\n"
     ]
    }
   ],
   "source": [
    "gen7 = itertools.product('ABCDE')\n",
    "print(list(gen7))"
   ]
  },
  {
   "cell_type": "markdown",
   "metadata": {},
   "source": [
    "**연산(경우의 수)**"
   ]
  },
  {
   "cell_type": "code",
   "execution_count": 44,
   "metadata": {},
   "outputs": [
    {
     "name": "stdout",
     "output_type": "stream",
     "text": [
      "[('A', 'A'), ('A', 'B'), ('A', 'C'), ('A', 'D'), ('A', 'E'), ('B', 'A'), ('B', 'B'), ('B', 'C'), ('B', 'D'), ('B', 'E'), ('C', 'A'), ('C', 'B'), ('C', 'C'), ('C', 'D'), ('C', 'E'), ('D', 'A'), ('D', 'B'), ('D', 'C'), ('D', 'D'), ('D', 'E'), ('E', 'A'), ('E', 'B'), ('E', 'C'), ('E', 'D'), ('E', 'E')]\n"
     ]
    }
   ],
   "source": [
    "gen8 = itertools.product('ABCDE', repeat = 2)\n",
    "print(list(gen8))"
   ]
  },
  {
   "cell_type": "markdown",
   "metadata": {},
   "source": [
    "**그룹화**"
   ]
  },
  {
   "cell_type": "code",
   "execution_count": 53,
   "metadata": {},
   "outputs": [
    {
     "name": "stdout",
     "output_type": "stream",
     "text": [
      "[('A', <itertools._grouper object at 0x00000257A0CCB2B0>), ('B', <itertools._grouper object at 0x00000257A0CCB160>), ('C', <itertools._grouper object at 0x00000257A0CCB550>), ('D', <itertools._grouper object at 0x00000257A0CCB610>), ('E', <itertools._grouper object at 0x00000257A0CCB7F0>)]\n"
     ]
    }
   ],
   "source": [
    "gen9 = itertools.groupby('AAABBBCCCDDEEE')\n",
    "print(list(gen9))"
   ]
  },
  {
   "cell_type": "code",
   "execution_count": 57,
   "metadata": {},
   "outputs": [
    {
     "name": "stdout",
     "output_type": "stream",
     "text": [
      "A  :  ['A', 'A', 'A']\n",
      "B  :  ['B', 'B', 'B']\n",
      "C  :  ['C', 'C', 'C', 'C']\n",
      "D  :  ['D', 'D']\n",
      "E  :  ['E', 'E', 'E']\n"
     ]
    }
   ],
   "source": [
    "gen9 = itertools.groupby('AAABBBCCCCDDEEE')\n",
    "for chr, group in gen9 :\n",
    "    print(chr, ' : ', list(group))"
   ]
  },
  {
   "cell_type": "code",
   "execution_count": null,
   "metadata": {},
   "outputs": [],
   "source": []
  },
  {
   "cell_type": "code",
   "execution_count": null,
   "metadata": {},
   "outputs": [],
   "source": []
  }
 ],
 "metadata": {
  "kernelspec": {
   "display_name": "Python 3",
   "language": "python",
   "name": "python3"
  },
  "language_info": {
   "codemirror_mode": {
    "name": "ipython",
    "version": 3
   },
   "file_extension": ".py",
   "mimetype": "text/x-python",
   "name": "python",
   "nbconvert_exporter": "python",
   "pygments_lexer": "ipython3",
   "version": "3.8.5"
  }
 },
 "nbformat": 4,
 "nbformat_minor": 4
}
