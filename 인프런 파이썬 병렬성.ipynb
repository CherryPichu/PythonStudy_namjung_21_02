{
 "cells": [
  {
   "cell_type": "markdown",
   "metadata": {},
   "source": [
    "## 파이썬 병렬성\n",
    "**Futures(동시성)** <br>\n",
    " - 비동기 작업처리\n",
    " - 파이썬 GIL 설명\n",
    " - 동시성 처리 실습 예제\n",
    " - Process, Thread 예제"
   ]
  },
  {
   "cell_type": "markdown",
   "metadata": {},
   "source": [
    "**parallel tasks** (동시성)<br>\n",
    "파이썬 동시성 레퍼런스 <br>\n",
    "https://docs.python.org/3/library/concurrent.futures.html <br>\n",
    "<br>\n",
    "비동기 작업 실행<br>\n",
    "A 작업 걸고 -> B 실행 -> END <br>\n",
    "<br>\n",
    "지역시간(Block) CPU 및 리소스 낭비 방지 -> (File)Network I/O 관련 작업 -> 동시성 활용 권장 <br>\n",
    "<br>\n",
    "비동기 작업과 적합한 프로그램일 경우 압도적인 성능 향상<br>"
   ]
  },
  {
   "cell_type": "markdown",
   "metadata": {},
   "source": [
    "**이전의 파이썬에서(3.2이전) theading, multiprocessing 을 이용했었다. 다만, 코드가 어렵고 복잡하기 때문에 이것을 맵핑한 futures 패키지가 나왔다.**<br>\n",
    "<br>\n",
    "**futures** : 비동기 실행을 위한 API를 **고수준**으로 작성 -> 사용하기 쉽도록 개선<br>\n",
    "**concurrent.Futures**\n",
    "1. 멀티스레딩/멀티프로세싱 API 통일 -> 매우 사용하기 쉬움\n",
    "2. 실행중인 작업 취소, 완료 여부 체크, 타임아웃 옵션, 콜백 추가, 동기화 매우 쉽게 작성 -> 비동기 Promise 개념"
   ]
  },
  {
   "cell_type": "markdown",
   "metadata": {},
   "source": [
    "2가지 패턴 실습 <br>\n",
    "concurrent.futures 사용법 1<br>\n",
    "concurrent.futures 사용법 2<br>\n",
    "<br>\n",
    "**GIL** : 파이썬에만 있는 독특한 정책, 두 개 이상의 스레드가 동시에 실행 될 때 하나의 자원을 엑세스 하는 경우 -> 문제점을 방지하기 위해서 GIL 실행 ,<br>\n",
    "리소스 전체의 락이 걸린다. -> Context Switch (문맥 교환)<br><br>\n",
    "**스레드를 많이 쓴다고 좋은게 아니다**<br>\n",
    "GIL을 우회한다 : 멀티프로세싱 사용, CPython\n"
   ]
  },
  {
   "cell_type": "code",
   "execution_count": 1,
   "metadata": {},
   "outputs": [],
   "source": [
    "import os\n",
    "import time\n",
    "from concurrent import futures\n",
    "\n",
    "WORK_LIST = []"
   ]
  },
  {
   "cell_type": "code",
   "execution_count": 2,
   "metadata": {},
   "outputs": [],
   "source": [
    "WORK_LIST = [10000, 100000, 1000000, 10000000]\n",
    "\n",
    "# 동시성 합계 계산 메인 함수\n",
    "# 누적 합계 함수(제레네이터)\n",
    "\n",
    "def sum_generator(n) :\n",
    "    return sum(n for n in range(1, n+1))"
   ]
  },
  {
   "cell_type": "code",
   "execution_count": 3,
   "metadata": {},
   "outputs": [
    {
     "name": "stdout",
     "output_type": "stream",
     "text": [
      "\n",
      " Result -> [50005000, 5000050000, 500000500000, 50000005000000] Time : 1.01s\n"
     ]
    }
   ],
   "source": [
    "def main():\n",
    "    # Worker Count\n",
    "    worker = min(10, len(WORK_LIST))\n",
    "    # 시작 시간\n",
    "    start_tm = time.time()\n",
    "    \n",
    "    #결과 건수\n",
    "    # ProcessPoolExecutor\n",
    "    # ThreadPoolExecutor\n",
    "    with futures.ThreadPoolExecutor() as excutor :\n",
    "        # map -> 작업 순서 유지, 즉시 실행\n",
    "        result = excutor.map(sum_generator, WORK_LIST)\n",
    "    \n",
    "    # 종료 시간\n",
    "    end_tm = time.time() - start_tm\n",
    "    \n",
    "    # 출력 포멧\n",
    "    msg = '\\n Result -> {} Time : {:.2f}s'\n",
    "    \n",
    "    #최종 결과 출력\n",
    "    print(msg.format(list(result), end_tm))\n",
    "\n",
    "    \n",
    "# 실행\n",
    "if __name__ == '__main__' : # 이 시작 부분이 있어야 스레드가 실행 가능\n",
    "    main()"
   ]
  },
  {
   "cell_type": "markdown",
   "metadata": {},
   "source": []
  },
  {
   "cell_type": "code",
   "execution_count": null,
   "metadata": {},
   "outputs": [],
   "source": []
  }
 ],
 "metadata": {
  "kernelspec": {
   "display_name": "Python 3",
   "language": "python",
   "name": "python3"
  },
  "language_info": {
   "codemirror_mode": {
    "name": "ipython",
    "version": 3
   },
   "file_extension": ".py",
   "mimetype": "text/x-python",
   "name": "python",
   "nbconvert_exporter": "python",
   "pygments_lexer": "ipython3",
   "version": "3.8.5"
  }
 },
 "nbformat": 4,
 "nbformat_minor": 4
}
