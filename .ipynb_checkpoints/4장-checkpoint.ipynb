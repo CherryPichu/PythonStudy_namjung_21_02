{
 "cells": [
  {
   "cell_type": "markdown",
   "metadata": {},
   "source": [
    "## 네임 스페이스와 스코포 145p\n",
    "변수의 이름은 사용되는 위치에 따라 다른 것을 참조할 수 있따. 파이썬 프로그램에는 다양한 **네임스페이스(namespace)**가 있다. (전역변수, 지역변수) <br>\n",
    "네임스페이스는 특정 이름이 유일하고, 다른 네임스페이스에서의 같은 이름과 관계가 없는 것을 말한다. <br>\n",
    "\n",
    "함수에서 전역변수(global variable)의 값을 얻을 수 있다."
   ]
  },
  {
   "cell_type": "code",
   "execution_count": 3,
   "metadata": {},
   "outputs": [
    {
     "name": "stdout",
     "output_type": "stream",
     "text": [
      "inside print_global fruitbat\n"
     ]
    }
   ],
   "source": [
    "animal = 'fruitbat'\n",
    "def print_global():\n",
    "    print('inside print_global', animal)\n",
    "print_global()"
   ]
  },
  {
   "cell_type": "code",
   "execution_count": 4,
   "metadata": {},
   "outputs": [],
   "source": [
    "def change_and_print_global():\n",
    "    print('inside print_global', animal)\n",
    "    animal = 'wombat'\n",
    "    print('after the change : ', animal)\n",
    "# change_and_print_global() # 오류"
   ]
  },
  {
   "cell_type": "markdown",
   "metadata": {},
   "source": [
    "첫번째 print에서 전역변수의 이름을 사용하고, 두번째 줄에서 지역변수의 이름으로 바꾸려 하면 에러가 발생한다.\n",
    "전역변수를 바꾸려 한다면 또 다른 이름의 animal 변수를 변경해야 한다."
   ]
  },
  {
   "cell_type": "code",
   "execution_count": 5,
   "metadata": {},
   "outputs": [
    {
     "name": "stdout",
     "output_type": "stream",
     "text": [
      "inside change_local :  wombat 1986003076464\n"
     ]
    }
   ],
   "source": [
    "def change_local():\n",
    "    animal = 'wombat'\n",
    "    print('inside change_local : ', animal, id(animal))\n",
    "change_local() "
   ]
  },
  {
   "cell_type": "markdown",
   "metadata": {},
   "source": [
    "첫번째 줄에서 문자열 'fruitbat'을 전역변수 animal에 활당했다. change_local() 함수 또한 이름이 animal인 변수를 갖지만, 그것은 로컬(local) 네임스페이스 안에 있다.<br>\n",
    "**각 객체의 유일한 값을 출력하기 위해서** 파이썬은 **id()**를 사용한다.<br>\n",
    "함수 내의 **지역변수(local variable)가 아닌 전역 변수를 접근하기 위해서 global 키워드를 사용해서 전역 변수의 접근을 명시해야 한다.(파이썬 철학: 명확한 것이 함축적인 것 보다 낫다.)** <br>"
   ]
  },
  {
   "cell_type": "code",
   "execution_count": 10,
   "metadata": {},
   "outputs": [
    {
     "name": "stdout",
     "output_type": "stream",
     "text": [
      "fruitbat\n",
      "inside print_global: wombat\n"
     ]
    }
   ],
   "source": [
    "animal = \"fruitbat\"\n",
    "def change_and_print_global():\n",
    "    global animal\n",
    "    animal = 'wombat'\n",
    "    print('inside print_global:', animal)\n",
    "print(animal)\n",
    "change_and_print_global()"
   ]
  },
  {
   "cell_type": "markdown",
   "metadata": {},
   "source": [
    "함수 안에 global 키워드를 사용하지 않으면 파이썬은 로컬 네임스페이스를 사용하고 변수는 지역 변수가 된다. 지역변수는 함수를 수행한 뒤 사라진다.<br>\n",
    "파이썬은 **네임 스페이스의 내용을 접근하기 위해 두 가지 함수를 제공한다.**\n",
    "1. **local()** 함수는 로컬 네임스페이싀 내용이 담긴 딕션리를 반환한다.\n",
    "2. **global()** 함수는 글로벌 네임스페이스의 내용이 담긴 딕셔너리를 반환한다."
   ]
  },
  {
   "cell_type": "code",
   "execution_count": 18,
   "metadata": {},
   "outputs": [
    {
     "name": "stdout",
     "output_type": "stream",
     "text": [
      "fruitbat\n",
      "locals: {'animal': 'wombat'}\n"
     ]
    }
   ],
   "source": [
    "animal = \"fruitbat\"\n",
    "def change_local():\n",
    "    animal = 'wombat' #지역변수\n",
    "    print('locals:', locals())\n",
    "print(animal)\n",
    "# print('anmal:', globals())\n",
    "change_local()"
   ]
  },
  {
   "cell_type": "markdown",
   "metadata": {},
   "source": [
    "#### 이름에 **\\_**와**\\_\\_**사용 147p.\n",
    "두 언더스코어(__)로 시작하고 끝나는 이름은 파이썬 내의 사용을 위해 예약되어 있다. 그러므로 변수를 선언할 때 두 언더스코어를 사용하면 안된다. <br>\n",
    "어플리케이션 개발자 들이 이와 같은 변수 이름을 선택할 가능성이 낮아서, 이러한 네이밍 패턴을 선택한 것이다.<br>"
   ]
  },
  {
   "cell_type": "markdown",
   "metadata": {},
   "source": [
    "149p 에러 처리하기 나중에 정리 02-05"
   ]
  },
  {
   "cell_type": "code",
   "execution_count": null,
   "metadata": {},
   "outputs": [],
   "source": []
  }
 ],
 "metadata": {
  "kernelspec": {
   "display_name": "Python 3",
   "language": "python",
   "name": "python3"
  },
  "language_info": {
   "codemirror_mode": {
    "name": "ipython",
    "version": 3
   },
   "file_extension": ".py",
   "mimetype": "text/x-python",
   "name": "python",
   "nbconvert_exporter": "python",
   "pygments_lexer": "ipython3",
   "version": "3.8.5"
  }
 },
 "nbformat": 4,
 "nbformat_minor": 4
}
