{
 "cells": [
  {
   "cell_type": "markdown",
   "metadata": {},
   "source": [
    " - **병행성(Concurrency)** : 한 컴퓨터가 여러 일을 동시에 수행 -> 단일 프로그램 안에서 여러 일을 쉽게 해결 <br>\n",
    "   (**파이썬의 큰 장점 : CPU는 하나지만 마치 동시에 일하는 것처럼 보이게 만듬(동시성)** ex) 클로저, 제너레이터 etc..)\n",
    " \n",
    " - **병렬성(Parallelism)** : 여러 컴퓨터가 여러 작업을 동시에 수행 (동시에 모든 작업을 해서 취합을 한 곳에서) -> 속도\n",
    " \n",
    "## 코루틴(Coroutine)\n",
    "**코루틴 : 단일(싱글) 스레드, 스텍을 기반으로 동작하는 비동기 작업** <br>\n",
    "**쓰레드 : OS 관리, CPU 코어에서 실시간, 시분할 비동기 작업** -> **멀티쓰레드** <br>\n",
    "yield : 메인 <-> 서브 <br>"
   ]
  },
  {
   "cell_type": "markdown",
   "metadata": {},
   "source": [
    "코루틴 제어, 상태, 양방향 전송<br>\n",
    "\n",
    "서브루틴 : 메인 루틴 호출 -> 서브루틴에서 수행(흐름제어)<br>\n",
    "코루틴 : 루팅 실행 중 중지 -> 동시성 프로그래밍<br>\n",
    "코루틴 : 쓰레드에 비해 오버헤드 감소<br>\n",
    "스레드 : 싱글쓰레드 -> 멀티쓰레드 -> 코딩하기 복잡 -> 공유되는 자원 <br>\n",
    "-> 교착 상태 발생 가능성, 면접 베스트 대답 : **컨텍스트 스위칭 비용 발생, 자원 소비 가능성 증가**\n",
    "<br><br>\n",
    "코루틴 Ex1<br>\n",
    "def를 단지 함수를 선언한다고 생각하지 않고 내용을 생각해야 한다!"
   ]
  },
  {
   "cell_type": "code",
   "execution_count": 30,
   "metadata": {},
   "outputs": [
    {
     "name": "stdout",
     "output_type": "stream",
     "text": [
      "<generator object coroutine1 at 0x000001FA04657E40> <class 'generator'>\n",
      ">>> coroutine started.\n",
      ">>> coroutine received : 100\n"
     ]
    },
    {
     "ename": "StopIteration",
     "evalue": "",
     "output_type": "error",
     "traceback": [
      "\u001b[1;31m---------------------------------------------------------------------------\u001b[0m",
      "\u001b[1;31mStopIteration\u001b[0m                             Traceback (most recent call last)",
      "\u001b[1;32m<ipython-input-30-0504ceeb9dfe>\u001b[0m in \u001b[0;36m<module>\u001b[1;34m\u001b[0m\n\u001b[0;32m     12\u001b[0m \u001b[0mnext\u001b[0m\u001b[1;33m(\u001b[0m\u001b[0mcr1\u001b[0m\u001b[1;33m)\u001b[0m\u001b[1;33m\u001b[0m\u001b[1;33m\u001b[0m\u001b[0m\n\u001b[0;32m     13\u001b[0m \u001b[1;31m# next(cr1) # error : StopIteration:\u001b[0m\u001b[1;33m\u001b[0m\u001b[1;33m\u001b[0m\u001b[1;33m\u001b[0m\u001b[0m\n\u001b[1;32m---> 14\u001b[1;33m \u001b[0mcr1\u001b[0m\u001b[1;33m.\u001b[0m\u001b[0msend\u001b[0m\u001b[1;33m(\u001b[0m\u001b[1;36m100\u001b[0m\u001b[1;33m)\u001b[0m \u001b[1;31m# 메인 루틴과 서브 루틴이 서로 데이터 교환을 할 수 있다. 기본 값은 None을 전달한다. ex) next(cr1)\u001b[0m\u001b[1;33m\u001b[0m\u001b[1;33m\u001b[0m\u001b[0m\n\u001b[0m",
      "\u001b[1;31mStopIteration\u001b[0m: "
     ]
    }
   ],
   "source": [
    "def coroutine1():\n",
    "    print(\">>> coroutine started.\")\n",
    "    i = yield \n",
    "    print('>>> coroutine received : {}'.format(i))\n",
    "\n",
    "# 메인 루틴\n",
    "# 제너레이터 선언\n",
    "cr1 = coroutine1()\n",
    "\n",
    "print(cr1, type(cr1))\n",
    "\n",
    "next(cr1)\n",
    "# next(cr1) # error : StopIteration: \n",
    "cr1.send(100) # 메인 루틴과 서브 루틴이 서로 데이터 교환을 할 수 있다. 기본 값은 None을 전달한다. ex) next(cr1)"
   ]
  },
  {
   "cell_type": "code",
   "execution_count": 33,
   "metadata": {},
   "outputs": [],
   "source": [
    "# cr2 = coroutine1()\n",
    "# cr2.send(200) #  can't send non-None value to a just-started generator : next를 먼저 호출해서 시작을 해야한다."
   ]
  },
  {
   "cell_type": "markdown",
   "metadata": {},
   "source": [
    "**코루틴 Ex2** <br>\n",
    "**from inspect import getgeneratorstate : 상태 확인 api** <br>\n",
    "GEN_CREATTED : 처음 대기 상태<br>\n",
    "GEN_RUNNING : 실행 상태<br>\n",
    "GEN_SUSPENDED : Yield 대기 상채<br>\n",
    "GEN_ClOSED : 실행 완료 상태"
   ]
  },
  {
   "cell_type": "code",
   "execution_count": 43,
   "metadata": {},
   "outputs": [
    {
     "name": "stdout",
     "output_type": "stream",
     "text": [
      "GEN_CREATED\n",
      ">>> coroutine stated : 10\n",
      "10\n",
      "GEN_SUSPENDED\n",
      ">>> coroutine received : 100\n",
      "110\n"
     ]
    }
   ],
   "source": [
    "def coroutine2(x):\n",
    "    print('>>> coroutine stated : {}'.format(x))\n",
    "    y = yield x # 양뱡향 : 왼쪽은 받는 것, 오른쪽은 주는 것.\n",
    "    print('>>> coroutine received : {}'.format(y))\n",
    "    z = yield x + y # 제너레이터 기반이다.\n",
    "    print('>>> coroutine received : {}'.format(z))\n",
    "    \n",
    "cr3 = coroutine2(10)\n",
    "from inspect import getgeneratorstate\n",
    "print(getgeneratorstate(cr3)) # 상채값 확인\n",
    "print(next(cr3))\n",
    "print(getgeneratorstate(cr3))\n",
    "cr3.send(100)\n",
    "# cr3.send(100)"
   ]
  },
  {
   "cell_type": "markdown",
   "metadata": {},
   "source": [
    "파이썬 3.5 이상에서는 기능 추가와 예약어가 바꼈다.<br>\n",
    "**def => anync(비동기), yield(바뀐다.) -> await**<br><br>\n",
    "\n",
    "코루틴 Ex3<br>\n",
    "**StopIteration 자동 처리(파이썬3.5 -> await)**\n",
    "\n",
    "#### 중첩 코루틴 처리"
   ]
  },
  {
   "cell_type": "code",
   "execution_count": 47,
   "metadata": {},
   "outputs": [
    {
     "name": "stdout",
     "output_type": "stream",
     "text": [
      "A\n",
      "B\n",
      "1\n",
      "2\n",
      "3\n"
     ]
    }
   ],
   "source": [
    "def generator1() :\n",
    "    for x in 'AB':\n",
    "        yield x\n",
    "    for y in range(1, 4):\n",
    "        yield y\n",
    "\n",
    "t1 =  generator1()\n",
    "\n",
    "print(next(t1))\n",
    "print(next(t1))\n",
    "print(next(t1))\n",
    "print(next(t1))\n",
    "print(next(t1))\n",
    "# print(next(t1))"
   ]
  },
  {
   "cell_type": "code",
   "execution_count": 48,
   "metadata": {},
   "outputs": [
    {
     "name": "stdout",
     "output_type": "stream",
     "text": [
      "['A', 'B', 1, 2, 3]\n"
     ]
    }
   ],
   "source": [
    "t2 = generator1()\n",
    "\n",
    "print(list(t2))"
   ]
  },
  {
   "cell_type": "code",
   "execution_count": 53,
   "metadata": {},
   "outputs": [
    {
     "name": "stdout",
     "output_type": "stream",
     "text": [
      "A\n",
      "B\n",
      "1\n",
      "2\n",
      "3\n"
     ]
    }
   ],
   "source": [
    "def generator2():\n",
    "    yield from 'AB'\n",
    "    yield from range(1,4)\n",
    "    \n",
    "t3 = generator2()\n",
    "\n",
    "print(next(t3))\n",
    "print(next(t3))\n",
    "print(next(t3))\n",
    "print(next(t3))\n",
    "print(next(t3))\n",
    "# print(next(t3)) # error"
   ]
  },
  {
   "cell_type": "code",
   "execution_count": null,
   "metadata": {},
   "outputs": [],
   "source": []
  }
 ],
 "metadata": {
  "kernelspec": {
   "display_name": "Python 3",
   "language": "python",
   "name": "python3"
  },
  "language_info": {
   "codemirror_mode": {
    "name": "ipython",
    "version": 3
   },
   "file_extension": ".py",
   "mimetype": "text/x-python",
   "name": "python",
   "nbconvert_exporter": "python",
   "pygments_lexer": "ipython3",
   "version": "3.8.5"
  }
 },
 "nbformat": 4,
 "nbformat_minor": 4
}
