{
 "cells": [
  {
   "cell_type": "markdown",
   "metadata": {},
   "source": [
    "130p. 파이썬에서 None은 아무것도 없다는 것을 뜻하는 파이썬의 특별한 값이다. None이 부울로 평가될 때는 False 처럼 보이지만 부울값이 False와는 다르다!<br>"
   ]
  },
  {
   "cell_type": "code",
   "execution_count": null,
   "metadata": {},
   "outputs": [],
   "source": [
    "def is_none(thing):\n",
    "    if thing is None :\n",
    "        print(\"It's None\")\n",
    "    elif thing :\n",
    "        print(\"It's True\")\n",
    "    else :\n",
    "        print(\"It's False\")\n",
    "        "
   ]
  },
  {
   "cell_type": "markdown",
   "metadata": {},
   "source": [
    "109p.\n",
    "if와 else는 참과 거짓인지 확인하는 파이썬의 **선언문 statement**이다.\n",
    "print()는 **내장 함수 built-in function**다."
   ]
  }
 ],
 "metadata": {
  "kernelspec": {
   "display_name": "Python 3",
   "language": "python",
   "name": "python3"
  },
  "language_info": {
   "codemirror_mode": {
    "name": "ipython",
    "version": 3
   },
   "file_extension": ".py",
   "mimetype": "text/x-python",
   "name": "python",
   "nbconvert_exporter": "python",
   "pygments_lexer": "ipython3",
   "version": "3.8.5"
  }
 },
 "nbformat": 4,
 "nbformat_minor": 5
}
