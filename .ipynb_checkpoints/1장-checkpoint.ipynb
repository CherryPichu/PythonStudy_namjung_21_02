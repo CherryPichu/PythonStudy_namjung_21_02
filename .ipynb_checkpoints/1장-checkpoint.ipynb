{
 "cells": [
  {
   "cell_type": "code",
   "execution_count": 1,
   "metadata": {},
   "outputs": [
    {
     "name": "stdout",
     "output_type": "stream",
     "text": [
      "The Zen of Python, by Tim Peters\n",
      "\n",
      "Beautiful is better than ugly.\n",
      "Explicit is better than implicit.\n",
      "Simple is better than complex.\n",
      "Complex is better than complicated.\n",
      "Flat is better than nested.\n",
      "Sparse is better than dense.\n",
      "Readability counts.\n",
      "Special cases aren't special enough to break the rules.\n",
      "Although practicality beats purity.\n",
      "Errors should never pass silently.\n",
      "Unless explicitly silenced.\n",
      "In the face of ambiguity, refuse the temptation to guess.\n",
      "There should be one-- and preferably only one --obvious way to do it.\n",
      "Although that way may not be obvious at first unless you're Dutch.\n",
      "Now is better than never.\n",
      "Although never is often better than *right* now.\n",
      "If the implementation is hard to explain, it's a bad idea.\n",
      "If the implementation is easy to explain, it may be a good idea.\n",
      "Namespaces are one honking great idea -- let's do more of those!\n"
     ]
    }
   ],
   "source": [
    "#파이썬 철학\n",
    "import this"
   ]
  },
  {
   "cell_type": "markdown",
   "metadata": {},
   "source": [
    "## 파이썬 실습 노트 01-31 \n",
    "- 이 글에서는 파이썬만의 특징과 이론을 다룬다.\n",
    "- \"처음 시작하는 파이썬\"을 베이스로 글이 작성되었다."
   ]
  },
  {
   "cell_type": "markdown",
   "metadata": {},
   "source": [
    "42p. \n",
    "파이썬에서 모든 것(부울, 정수, 실수, 문자열, 데이터 구조, 함수, 프로그램)이 객체object로 구현되어 있다. <br>\n",
    "이는 모든 것이 스택 메모리에 넣는 C언어와 차이가 있다. <br>\n",
    "또 이는 실수, 정수 형을 제외한 객체, 배열들을 heap 메모리에 활당하는 자바와 조금 다르다. <br>\n",
    "\n",
    "가변(mutable) : 데이터 값을 변경할 수 있다.<br>\n",
    "불변(immutable) : 데이터 값을 변경할 수 없는 상수.<br>\n",
    "**파이선은 객체의 타입을 바꿀 수 없는 타입, 심지어 그 값이 가변인 경우에도 타입을 바꿀 수 없다.**"
   ]
  },
  {
   "cell_type": "markdown",
   "metadata": {},
   "source": [
    "46p.파이썬에서 'class'와 'type'은 그 의미가 거의 같다. (6장)"
   ]
  },
  {
   "cell_type": "markdown",
   "metadata": {},
   "source": [
    "56p. int의 크기\n",
    "파이썬 2에서 int의 크기는 32비트로 제한되어있다. <br>\n",
    "long은 그보다 더 많은 공간을(64비트) 가지고 있다.<br>\n",
    "**파이썬3에서는 long이 사라지고, int의 크기가 유연해졌다.** <br>\n",
    "**심지어 64비트보다 더 큰 공간을 가질 수 있다.**<br>\n",
    "**대부분 언어에서 정수 오버플로(integer overflow)가 발생할 것이지만, 파이썬은 문제없이 큰 정수를 처리한다!**"
   ]
  },
  {
   "cell_type": "markdown",
   "metadata": {},
   "source": [
    "60p. 결합:+ \n",
    "'+' 연산자를 사용해서 리터럴 문자열 또는 문자열 변수를 결합할 수 있다. <br>\n",
    "**(문자열 변수 아닌)**리터럴 문장열을 다음과 같이 차례로 결합할 수 있다."
   ]
  },
  {
   "cell_type": "code",
   "execution_count": 2,
   "metadata": {},
   "outputs": [
    {
     "data": {
      "text/plain": [
       "'My word! A gentleman calller!'"
      ]
     },
     "execution_count": 2,
     "metadata": {},
     "output_type": "execute_result"
    }
   ],
   "source": [
    "\"My word! \" \"A gentleman calller!\""
   ]
  },
  {
   "cell_type": "markdown",
   "metadata": {},
   "source": [
    "67p.문자열 다루기 <br>\n",
    " - 문자열 기본 함수"
   ]
  },
  {
   "cell_type": "code",
   "execution_count": 10,
   "metadata": {},
   "outputs": [
    {
     "data": {
      "text/plain": [
       "19"
      ]
     },
     "execution_count": 10,
     "metadata": {},
     "output_type": "execute_result"
    }
   ],
   "source": [
    "poem = \"all that doth flow we cannot liquid name, we are the\"\n",
    "poem.find(\"we\") # we가 나오는 오프셋은?"
   ]
  },
  {
   "cell_type": "code",
   "execution_count": 12,
   "metadata": {},
   "outputs": [
    {
     "data": {
      "text/plain": [
       "42"
      ]
     },
     "execution_count": 12,
     "metadata": {},
     "output_type": "execute_result"
    }
   ],
   "source": [
    "poem.rfind(\"we\") # 마지막으로 we가 나오는 오프셋은?"
   ]
  },
  {
   "cell_type": "code",
   "execution_count": 13,
   "metadata": {},
   "outputs": [
    {
     "data": {
      "text/plain": [
       "2"
      ]
     },
     "execution_count": 13,
     "metadata": {},
     "output_type": "execute_result"
    }
   ],
   "source": [
    "poem.count(\"we\") # we가 몇번 나오는가 "
   ]
  },
  {
   "cell_type": "code",
   "execution_count": 16,
   "metadata": {},
   "outputs": [
    {
     "data": {
      "text/plain": [
       "'a duck goes into a bar'"
      ]
     },
     "execution_count": 16,
     "metadata": {},
     "output_type": "execute_result"
    }
   ],
   "source": [
    "setup = 'a duck goes into a bar...'\n",
    "setup.strip('.') # 양끝에서 . 시퀀스를 삭제한다"
   ]
  },
  {
   "cell_type": "code",
   "execution_count": 18,
   "metadata": {},
   "outputs": [
    {
     "data": {
      "text/plain": [
       "'A duck goes into a bar...'"
      ]
     },
     "execution_count": 18,
     "metadata": {},
     "output_type": "execute_result"
    }
   ],
   "source": [
    "setup.capitalize() # 첫 번째 단어를 대문자로 만들기"
   ]
  },
  {
   "cell_type": "code",
   "execution_count": 19,
   "metadata": {},
   "outputs": [
    {
     "data": {
      "text/plain": [
       "'A Duck Goes Into A Bar...'"
      ]
     },
     "execution_count": 19,
     "metadata": {},
     "output_type": "execute_result"
    }
   ],
   "source": [
    "setup.title() # 모든 단어의 첫 글자를 대문자로 만들어보자."
   ]
  },
  {
   "cell_type": "code",
   "execution_count": 20,
   "metadata": {},
   "outputs": [
    {
     "name": "stdout",
     "output_type": "stream",
     "text": [
      "A DUCK GOES INTO A BAR...\n",
      "a duck goes into a bar...\n"
     ]
    }
   ],
   "source": [
    "print(setup.upper()) # 글자를 모두 대문자\n",
    "print(setup.lower()) # 글자를 모두 소문자"
   ]
  },
  {
   "cell_type": "code",
   "execution_count": 21,
   "metadata": {},
   "outputs": [
    {
     "data": {
      "text/plain": [
       "'A DUCK GOES INTO A BAR...'"
      ]
     },
     "execution_count": 21,
     "metadata": {},
     "output_type": "execute_result"
    }
   ],
   "source": [
    "setup.swapcase() # 대문자를 소문자로, 소문자는 대문자로"
   ]
  },
  {
   "cell_type": "code",
   "execution_count": 23,
   "metadata": {},
   "outputs": [
    {
     "data": {
      "text/plain": [
       "'  a duck goes into a bar...   '"
      ]
     },
     "execution_count": 23,
     "metadata": {},
     "output_type": "execute_result"
    }
   ],
   "source": [
    "setup.center(30) # 문자열을 지정한 공간엣 중아에 배치해보자"
   ]
  },
  {
   "cell_type": "code",
   "execution_count": 24,
   "metadata": {},
   "outputs": [
    {
     "data": {
      "text/plain": [
       "'a duck goes into a bar...     '"
      ]
     },
     "execution_count": 24,
     "metadata": {},
     "output_type": "execute_result"
    }
   ],
   "source": [
    "setup.ljust(30) # 왼쪽"
   ]
  },
  {
   "cell_type": "code",
   "execution_count": 25,
   "metadata": {},
   "outputs": [
    {
     "data": {
      "text/plain": [
       "'     a duck goes into a bar...'"
      ]
     },
     "execution_count": 25,
     "metadata": {},
     "output_type": "execute_result"
    }
   ],
   "source": [
    "setup.rjust(30) # 오른쪽"
   ]
  },
  {
   "cell_type": "code",
   "execution_count": 29,
   "metadata": {},
   "outputs": [
    {
     "data": {
      "text/plain": [
       "'all that doth flow you cannot liquid name, you are the'"
      ]
     },
     "execution_count": 29,
     "metadata": {},
     "output_type": "execute_result"
    }
   ],
   "source": [
    "poem.replace('we', 'you') # 문자열을 교체할 수 있다. 이때 정규표현식이 적용된다."
   ]
  },
  {
   "cell_type": "code",
   "execution_count": 30,
   "metadata": {},
   "outputs": [
    {
     "data": {
      "text/plain": [
       "'all that doth flow you cannot liquid name, we are the'"
      ]
     },
     "execution_count": 30,
     "metadata": {},
     "output_type": "execute_result"
    }
   ],
   "source": [
    "poem.replace('we', 'you', 1) # 1회만 변환"
   ]
  },
  {
   "cell_type": "markdown",
   "metadata": {},
   "source": [
    "오픈셋으로 항목을 얻은 후 삭제하기 : pop()<br>\n",
    "pop 은 리스트에서 항목을 가져오는 동시에 그 항목을 삭제한다. 오픈셋과 함께 pop()을 호출했다면 그 오픈셋의 항목이 반환된다.<br>\n",
    "pop(0)은 리스트의 헤드를 반환한다.\n",
    "그리고 pop() 혹은 pop(-1)은 리스트의 테일을 반환한다.\n",
    "컴퓨터 용어로 append()로 새로운 항목을 끝에 추가하고 pop()으로 다시 마지막 항목을 제거한다면, 여러분은 LIFO 자료구족인 스택을 구현한 것이다.\n",
    "pop(0)을 사용했다면 FIFO 자료구조인 큐를 구현한 것이다."
   ]
  },
  {
   "cell_type": "markdown",
   "metadata": {},
   "source": [
    ".sort()는 리스트 자체를 내부적으로 정렬한다.<br>\n",
    "sorted()는 리스트의 정렬된 복사본을 반환한다."
   ]
  },
  {
   "cell_type": "markdown",
   "metadata": {},
   "source": [
    "#### 튜플 86p.\n",
    "- 하나 이상의 요소가 있는 튜플을 만들기 위해서는 각 요소 뒤에 콤마(,)를 붙인다.\n",
    "- 두개 이상의 요소가 있는 경우, 마지막 요소에 콤마를 붙이지 않는다."
   ]
  },
  {
   "cell_type": "code",
   "execution_count": 6,
   "metadata": {},
   "outputs": [
    {
     "name": "stdout",
     "output_type": "stream",
     "text": [
      "('Groucho',)\n",
      "('Groucho', 'Chico', 'harpo')\n",
      "Groucho\n"
     ]
    }
   ],
   "source": [
    "one_marx = ('Groucho',)\n",
    "marx_tuple = 'Groucho', 'Chico', 'harpo'\n",
    "print(one_marx)\n",
    "print(marx_tuple)\n",
    "예외 = (\"Groucho\")\n",
    "print(예외)"
   ]
  },
  {
   "cell_type": "markdown",
   "metadata": {},
   "source": [
    "**튜플을 정의할 때는 괄호 ()가 필요 업다. 뒤에 콤마가 붙는다는 것은 튜플을 정의한다는 뜻이다.**<br>\n",
    "그러나 값들의 괄호를 묶어서 튜플을 정의한다면, 이것이 튜플인지 구분하기가 더 쉽다.<br>\n",
    "**튜플은 한 번에 여러 변수를 할당할 수 있다. 이것을 튜플 언패킹(tuple unpacking)이라고 부른다.**"
   ]
  },
  {
   "cell_type": "code",
   "execution_count": 10,
   "metadata": {},
   "outputs": [
    {
     "name": "stdout",
     "output_type": "stream",
     "text": [
      "Groucho\n",
      "Chico\n",
      "harpo\n"
     ]
    }
   ],
   "source": [
    "a, b, c = ('Groucho', 'Chico', 'harpo')\n",
    "print(a)\n",
    "print(b)\n",
    "print(c)"
   ]
  },
  {
   "cell_type": "markdown",
   "metadata": {},
   "source": [
    "- **튜플**은 **리스트**보다 더 적은 공간을 사용한다. <br>\n",
    "- **튜플**은 실수로 튜플의 항목이 **손상될 염려가 없다.** <br>\n",
    "- **튜플**은 **딕셔너리 키로 사용**할 수 있다.(**불변형**) <br>\n",
    "- **네임드 튜플**은 **객체의 단순한 대안이 될 수 있다.** <br>\n",
    "- **함수의 인자들은 튜플로 전달된다.** <br>"
   ]
  },
  {
   "cell_type": "markdown",
   "metadata": {},
   "source": [
    "89p. dict() <br>\n",
    "dict() 함수를 사용해서 **두 값으로 이루어진 시퀀스**를 **딕셔너리로 변환**할 수 있다. <br>"
   ]
  },
  {
   "cell_type": "code",
   "execution_count": 11,
   "metadata": {},
   "outputs": [
    {
     "data": {
      "text/plain": [
       "{'a': 'b', 'c': 'd', 'e': 'f'}"
      ]
     },
     "execution_count": 11,
     "metadata": {},
     "output_type": "execute_result"
    }
   ],
   "source": [
    "lol = [['a', 'b'], ['c', 'd'], ['e', 'f']]\n",
    "dict(lol)"
   ]
  },
  {
   "cell_type": "code",
   "execution_count": 12,
   "metadata": {},
   "outputs": [
    {
     "data": {
      "text/plain": [
       "{'a': 'b', 'c': 'd', 'e': 'f'}"
      ]
     },
     "execution_count": 12,
     "metadata": {},
     "output_type": "execute_result"
    }
   ],
   "source": [
    "los = ['ab', 'cd', 'ef']\n",
    "dict(los)"
   ]
  },
  {
   "cell_type": "markdown",
   "metadata": {},
   "source": [
    "- 딕셔너리의 키는 순서가 없으므로 항목을 어떻게 추가하느냐에 따라 그 순서가 달라질 수 있다.\n",
    "1. 딕셔너리 결합하기 : update()\n",
    "2. 키와 del로 항목 삭제하기\n",
    "3. 모든 항목 삭제: clear()\n",
    "4. in으로 키 맴버십 테스트하기\n",
    "5. 항목 얻기: [key] or .get(key, key가 없으면 나올 오류 지정)\n",
    "6. 모든 키 얻기: keys()\n",
    "7. 모든 값 얻기: values()\n",
    "8. 모든 쌍의 키-얻기:items()\n",
    "9. 할당ㅣ =. 복사: copy() <- 깊은 복사\n",
    "\n",
    "튜플은 딕셔너리의 키가 될 수 있다. Ex) GPS좌표(위도latitude, 경도longitude, 고도altitude)로 인덱싱 할 수 있다."
   ]
  },
  {
   "cell_type": "code",
   "execution_count": 15,
   "metadata": {},
   "outputs": [
    {
     "data": {
      "text/plain": [
       "{(44.79, -93.14, 285): 'My House', (38.89, -77.03, 13): 'The White House'}"
      ]
     },
     "execution_count": 15,
     "metadata": {},
     "output_type": "execute_result"
    }
   ],
   "source": [
    "houses = {(44.79, -93.14, 285):\"My House\", (38.89,-77.03,13):'The White House'}\n",
    "houses"
   ]
  },
  {
   "cell_type": "markdown",
   "metadata": {},
   "source": [
    "108p. 라인 유지하기 : \\"
   ]
  },
  {
   "cell_type": "code",
   "execution_count": 17,
   "metadata": {},
   "outputs": [
    {
     "data": {
      "text/plain": [
       "'abcdefghijkmnopqrstuvwxyz'"
      ]
     },
     "execution_count": 17,
     "metadata": {},
     "output_type": "execute_result"
    }
   ],
   "source": [
    "alphabet = \"abcdefg\" + \\\n",
    "'hijkmnop' + \\\n",
    "'qrstuv' + \\\n",
    "'wxyz'\n",
    "alphabet"
   ]
  },
  {
   "cell_type": "markdown",
   "metadata": {},
   "source": []
  }
 ],
 "metadata": {
  "kernelspec": {
   "display_name": "Python 3",
   "language": "python",
   "name": "python3"
  },
  "language_info": {
   "codemirror_mode": {
    "name": "ipython",
    "version": 3
   },
   "file_extension": ".py",
   "mimetype": "text/x-python",
   "name": "python",
   "nbconvert_exporter": "python",
   "pygments_lexer": "ipython3",
   "version": "3.8.5"
  }
 },
 "nbformat": 4,
 "nbformat_minor": 4
}
