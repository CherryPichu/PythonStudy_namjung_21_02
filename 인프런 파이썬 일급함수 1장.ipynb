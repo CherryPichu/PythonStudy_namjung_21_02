{
 "cells": [
  {
   "cell_type": "markdown",
   "metadata": {},
   "source": [
    "## 함수형 프로그래밍 언어: 파이썬\n",
    "함수형 프로그래밍 언어를 사용하면 코드를 간결하게 작성할 수 있어 개발 시간을 단축할 수 있고, 함수형 프로그래밍 언어가 부작용(Side Effffect)를 허용하지 않는<br>\n",
    "**순수 함수(Pure Function)**를 지향하여 동시에 여러 스레드에서 문제 없이 동작하는 프로그래밍을 쉽게 작성 할 수 있다.<br>\n",
    "해당 문법의 일급 함수의 특징을 캐치하고 또 그거에 대한 특성을 정확하게 파악한 다음에 프로그래밍을 할 수 있는 코딩 기법.\n",
    "\n",
    " - **인프런 파이썬 중급 강의 노트**"
   ]
  },
  {
   "cell_type": "code",
   "execution_count": 7,
   "metadata": {},
   "outputs": [
    {
     "name": "stdout",
     "output_type": "stream",
     "text": [
      "120\n",
      "Factorial Function -> n : int\n",
      "<class 'function'> <class 'type'>\n",
      "['__annotations__', '__call__', '__class__', '__closure__', '__code__', '__defaults__', '__delattr__', '__dict__', '__dir__', '__doc__', '__eq__', '__format__', '__ge__', '__get__', '__getattribute__', '__globals__', '__gt__', '__hash__', '__init__', '__init_subclass__', '__kwdefaults__', '__le__', '__lt__', '__module__', '__name__', '__ne__', '__new__', '__qualname__', '__reduce__', '__reduce_ex__', '__repr__', '__setattr__', '__sizeof__', '__str__', '__subclasshook__']\n",
      "---------------\n",
      "{'__globals__', '__qualname__', '__code__', '__defaults__', '__closure__', '__kwdefaults__', '__get__', '__annotations__', '__call__', '__name__'}\n",
      "factorial\n",
      "<code object factorial at 0x00000169EDAA2D40, file \"<ipython-input-7-fe66615b4b81>\", line 10>\n"
     ]
    }
   ],
   "source": [
    "# chapter05-01\n",
    "# 일급 함수(일급 객체)\n",
    "# 파이썬 함수 특징\n",
    "# 1. 런타임 초기화\n",
    "# 2. 변수 할당 가능\n",
    "# 3. 함수 인수 전달 가능\n",
    "# 4. 함수 결과 반환 가능(return)\n",
    "\n",
    "# 함수객체\n",
    "def factorial(n):\n",
    "    '''Factorial Function -> n : int'''\n",
    "    if n == 1: # n < 2\n",
    "        return 1\n",
    "    return n * factorial(n-1)\n",
    "\n",
    "class A :\n",
    "    pass\n",
    "    \n",
    "# 클래스와 함수. 함수는 일급 객체 취급을 할까?\n",
    "print(factorial(5))\n",
    "print(factorial.__doc__)\n",
    "print(type(factorial), type(A))\n",
    "print(dir(factorial))\n",
    "print(\"---------------\")\n",
    "print(set(sorted(dir(factorial))) - set(sorted(dir(A))))\n",
    "print(factorial.__name__)\n",
    "print(factorial.__code__)"
   ]
  },
  {
   "cell_type": "markdown",
   "metadata": {},
   "source": [
    "<hr>\n",
    "<class 'function'> <class 'type'><br>\n",
    "함수는 **일급 객체** 이므로 클래스가 아니지만 **객체 취급**을 한다.<br>\n",
    "dir(factorial)<br>\n",
    "함수지만 함수안에서 다양한 함수를 갖고 있다. -> 객체 취급을 한다.<br>\n",
    "\n",
    "* 파이썬하고 자바스크립트는 함수형 프로그래밍을 지향하면서 함수와 클래스에는 기능적 차이는 있어도 같은 **객체로써 취급**한다. (my_thinking)\n",
    "* 즉 함수형 프로그래밍에서 함수는 클래스와 동일하게 객체이다.\n",
    "\n",
    "set(sorted(dir(factorial))) - set(sorted(dir(A))) : 함수만 갖고 있는 기능등을 보여준다..<br>\n",
    "대표적으로 :  **'__globals__' , '__closure__' , '__call__'**.<br>\n",
    "<br>\n",
    "함수를 변수에 할당"
   ]
  },
  {
   "cell_type": "code",
   "execution_count": 13,
   "metadata": {},
   "outputs": [
    {
     "name": "stdout",
     "output_type": "stream",
     "text": [
      "<function factorial at 0x00000169ED516E50>\n",
      "3628800\n",
      "[1, 2, 6, 24, 120, 720, 5040, 40320, 362880, 3628800]\n"
     ]
    }
   ],
   "source": [
    "var_func = factorial\n",
    "print(var_func)\n",
    "print(var_func(10))\n",
    "print(list(map(var_func,range(1,11)))) # 1부터 10까지의 팩토리얼을 뽑아낸다."
   ]
  },
  {
   "cell_type": "markdown",
   "metadata": {},
   "source": [
    "함수 인수 전달 및 함수로 결과 반환 -> **고위 함수(Higher-order function)**<br>\n",
    "**Higher-order Function(고위 함수) 란**\n",
    "- 함수의 매개변수의 인수로 전달이 될수 있고\n",
    "- 함수로 결과를 반환할 수 있는 것을 말한다.<br>\n",
    "(First-class Function이 성립되는 3조건 중 2개만 만족한다.)"
   ]
  },
  {
   "cell_type": "markdown",
   "metadata": {},
   "source": [
    "map, filter, reduce 함수 정리"
   ]
  },
  {
   "cell_type": "code",
   "execution_count": 16,
   "metadata": {},
   "outputs": [
    {
     "name": "stdout",
     "output_type": "stream",
     "text": [
      "[1, 6, 120]\n"
     ]
    }
   ],
   "source": [
    "print([var_func(i) for i in range(1, 6) if i % 2])"
   ]
  },
  {
   "cell_type": "code",
   "execution_count": 23,
   "metadata": {},
   "outputs": [
    {
     "name": "stdout",
     "output_type": "stream",
     "text": [
      "[1, 6, 120]\n"
     ]
    }
   ],
   "source": [
    "print(list(map(var_func, filter(lambda x : x % 2, range(1,6))))) \n",
    "# map(A, B)은 A함수에 B의 시퀀스를 차례대로 만들어서 반환한다. filter(조건 함수, 순회 가능한 데이터) lambda x : x % 2 함수가 0(False)이 아닌 숫자만 리턴하는 숫자만 리턴한다."
   ]
  },
  {
   "cell_type": "markdown",
   "metadata": {},
   "source": [
    "**reduce(집계 함수, 순회 가능한 데이터[, 초기값])**<br>\n",
    "기본적으로 초기값을 기준으로 데이터를 루프 돌면서 집계 함수를 계속해서 적용하면서 데이터를 누적하는 방식으로 작동한다. <br>\n",
    "직접 만들 수 있고 import 할 수도 있다.<br>\n",
    "import 방법<br>"
   ]
  },
  {
   "cell_type": "code",
   "execution_count": 41,
   "metadata": {},
   "outputs": [
    {
     "name": "stdout",
     "output_type": "stream",
     "text": [
      "55\n",
      "55\n"
     ]
    }
   ],
   "source": [
    "from functools import reduce\n",
    "\n",
    "def add_some(a,b):\n",
    "    return a+b\n",
    "\n",
    "print(reduce(add_some, range(1, 11))) # 두개씩 받으면서 앞에꺼와 뒤에 것을 계속 누적시키면서 집게한다.\n",
    "print(sum(range(1,11)))\n",
    "# [1,2,3,4~~] -> 1+2 = 3 +4 = 7 + 5 = 11 + ....."
   ]
  },
  {
   "cell_type": "markdown",
   "metadata": {},
   "source": [
    "익명함수 (lambda)\n",
    "**가급적 주석을 작성해라!! 특히 복잡한 함수!!**<br> \n",
    "**또 가급적 함수를 작성해라!! 일반 함수 형태로 리팩토링 권장!!** <br>\n"
   ]
  },
  {
   "cell_type": "code",
   "execution_count": 40,
   "metadata": {},
   "outputs": [
    {
     "name": "stdout",
     "output_type": "stream",
     "text": [
      "55\n"
     ]
    }
   ],
   "source": [
    "print(reduce(lambda x, t : x + t , range(1, 11)))"
   ]
  },
  {
   "cell_type": "markdown",
   "metadata": {},
   "source": [
    "**Callable : 호출 연산자** <br>\n",
    "-> 메소드 형태로 호출 가능한지 확인!"
   ]
  },
  {
   "cell_type": "code",
   "execution_count": 45,
   "metadata": {},
   "outputs": [
    {
     "name": "stdout",
     "output_type": "stream",
     "text": [
      "True True\n",
      "True True False\n"
     ]
    }
   ],
   "source": [
    "print(callable(str), callable(A)) # str('a') class A\n",
    "print(callable(var_func), callable(factorial), callable(3.14)) # flote는 call 할 수 없다."
   ]
  },
  {
   "cell_type": "markdown",
   "metadata": {},
   "source": [
    "**partial 사용법 : 인수 고정 -> 콜백 함수 사용"
   ]
  },
  {
   "cell_type": "code",
   "execution_count": 53,
   "metadata": {},
   "outputs": [
    {
     "name": "stdout",
     "output_type": "stream",
     "text": [
      "100\n",
      "50\n",
      "[5, 10, 15, 20, 25, 30, 35, 40, 45, 50]\n",
      "[5, 10, 15, 20, 25, 30, 35, 40, 45, 50]\n"
     ]
    }
   ],
   "source": [
    "from operator import mul\n",
    "from functools import partial\n",
    "print(mul(10,10)) # 앞에 10은 고정하고 뒤에 10을 유동적으로 바꾸고 싶다.\n",
    "\n",
    "#인수 고정\n",
    "five = partial(mul, 5) # 5 * ? 함수를 인자로 전달이 가능하고, 함수를 변수에 할당할 수 있다 -> 일급 함수의 특징\n",
    "#고정 추가\n",
    "six = partial(five,6)\n",
    "print(five(10)) # 5 * 10\n",
    "# print(six(10)) # error: mul expected 2 arguments, got 3\n",
    "print([five(i) for i in range(1, 11)]) # 5의 배수\n",
    "print(list(map(five, range(1, 11))))"
   ]
  },
  {
   "cell_type": "markdown",
   "metadata": {},
   "source": [
    "## 클로저(Closure)\n",
    "프로그래밍에서 가장 어려운 부분은 동시성(교착생태, 경쟁상태), 클로저는 중간다리 역활을 해준다.<br>\n",
    "\n",
    "파이썬 변수 범위(scope)"
   ]
  },
  {
   "cell_type": "code",
   "execution_count": 2,
   "metadata": {},
   "outputs": [],
   "source": [
    "#Ex1\n",
    "def func_v1(a):\n",
    "    print(a)\n",
    "    print(b)\n",
    "# func_v1(10)"
   ]
  },
  {
   "cell_type": "code",
   "execution_count": 5,
   "metadata": {},
   "outputs": [
    {
     "name": "stdout",
     "output_type": "stream",
     "text": [
      "10\n",
      "20\n"
     ]
    }
   ],
   "source": [
    "#Ex2\n",
    "b=20 # 글로벌\n",
    "def func_v2(a):\n",
    "    print(a) # 지역변수(local)\n",
    "    print(b)\n",
    "func_v2(10)"
   ]
  },
  {
   "cell_type": "code",
   "execution_count": 15,
   "metadata": {},
   "outputs": [
    {
     "name": "stdout",
     "output_type": "stream",
     "text": [
      "10\n"
     ]
    },
    {
     "ename": "UnboundLocalError",
     "evalue": "local variable 'c' referenced before assignment",
     "output_type": "error",
     "traceback": [
      "\u001b[1;31m---------------------------------------------------------------------------\u001b[0m",
      "\u001b[1;31mUnboundLocalError\u001b[0m                         Traceback (most recent call last)",
      "\u001b[1;32m<ipython-input-15-c45f6eb40102>\u001b[0m in \u001b[0;36m<module>\u001b[1;34m\u001b[0m\n\u001b[0;32m      8\u001b[0m     \u001b[1;31m# 하지만 c가 선언되기 전에 호출되었으므로 오류가 생긴다.\u001b[0m\u001b[1;33m\u001b[0m\u001b[1;33m\u001b[0m\u001b[1;33m\u001b[0m\u001b[0m\n\u001b[0;32m      9\u001b[0m \u001b[1;33m\u001b[0m\u001b[0m\n\u001b[1;32m---> 10\u001b[1;33m \u001b[0mfunc_v3\u001b[0m\u001b[1;33m(\u001b[0m\u001b[1;36m10\u001b[0m\u001b[1;33m)\u001b[0m\u001b[1;33m\u001b[0m\u001b[1;33m\u001b[0m\u001b[0m\n\u001b[0m",
      "\u001b[1;32m<ipython-input-15-c45f6eb40102>\u001b[0m in \u001b[0;36mfunc_v3\u001b[1;34m(a)\u001b[0m\n\u001b[0;32m      3\u001b[0m \u001b[1;32mdef\u001b[0m \u001b[0mfunc_v3\u001b[0m\u001b[1;33m(\u001b[0m\u001b[0ma\u001b[0m\u001b[1;33m)\u001b[0m\u001b[1;33m:\u001b[0m\u001b[1;33m\u001b[0m\u001b[1;33m\u001b[0m\u001b[0m\n\u001b[0;32m      4\u001b[0m     \u001b[0mprint\u001b[0m\u001b[1;33m(\u001b[0m\u001b[0ma\u001b[0m\u001b[1;33m)\u001b[0m \u001b[1;31m# 지역변수(local)\u001b[0m\u001b[1;33m\u001b[0m\u001b[1;33m\u001b[0m\u001b[0m\n\u001b[1;32m----> 5\u001b[1;33m     \u001b[0mprint\u001b[0m\u001b[1;33m(\u001b[0m\u001b[0mc\u001b[0m\u001b[1;33m)\u001b[0m\u001b[1;33m\u001b[0m\u001b[1;33m\u001b[0m\u001b[0m\n\u001b[0m\u001b[0;32m      6\u001b[0m     \u001b[0mc\u001b[0m \u001b[1;33m=\u001b[0m \u001b[1;36m40\u001b[0m \u001b[1;31m# local variable 'c' referenced before assignment\u001b[0m\u001b[1;33m\u001b[0m\u001b[1;33m\u001b[0m\u001b[0m\n\u001b[0;32m      7\u001b[0m     \u001b[1;31m# C는 함수 안에 있기 때문에 지역변수로써 인식한다.\u001b[0m\u001b[1;33m\u001b[0m\u001b[1;33m\u001b[0m\u001b[1;33m\u001b[0m\u001b[0m\n",
      "\u001b[1;31mUnboundLocalError\u001b[0m: local variable 'c' referenced before assignment"
     ]
    }
   ],
   "source": [
    "#Ex3\n",
    "c = 30\n",
    "def func_v3(a):\n",
    "    print(a) # 지역변수(local)\n",
    "    print(c)\n",
    "    c = 40 # local variable 'c' referenced before assignment\n",
    "    # C는 함수 안에 있기 때문에 지역변수로써 인식한다.\n",
    "    # 하지만 c가 선언되기 전에 호출되었으므로 오류가 생긴다.\n",
    "    \n",
    "func_v3(10)"
   ]
  },
  {
   "cell_type": "code",
   "execution_count": 20,
   "metadata": {},
   "outputs": [
    {
     "name": "stdout",
     "output_type": "stream",
     "text": [
      ">>> 30\n",
      "10\n",
      "30\n",
      ">>> 40\n"
     ]
    }
   ],
   "source": [
    "#Ex3\n",
    "c = 30\n",
    "def func_v3(a):\n",
    "    global c # 글로벌\n",
    "    print(a) # 지역변수(local)\n",
    "    print(c)\n",
    "    c = 40\n",
    "    # C는 함수 안에 있기 때문에 지역변수로써 인식한다.\n",
    "print(\">>>\",c) # c는 30이 먼저 출력\n",
    "func_v3(10)\n",
    "print(\">>>\",c) #40 출력"
   ]
  },
  {
   "cell_type": "markdown",
   "metadata": {},
   "source": [
    "### **Closure(클로저) 사용 이유 - \"기억한다.\"**\n",
    "서버 프로그래밍 -> 동시성(Concurrency) 제어 -> 같은 메모리 공간에 여러 자원이 접근 -> 교착상태(데드락 Dead Lock : 일을 못하는 상태) <br>\n",
    "파이썬에서는 **메모리를 공유하지 않고 메시지로 전달하기 위해서 클로저를 사용**한다. -> Erlang <br>\n",
    "파이썬에서 **클로저는 공유하되 변경되지 않는(Immutable, Read only) 구조를 적극적으로 사용** (상태를 기억한다.)-> 함수형 프로그래밍 <br>\n",
    "클로저는 불변자료 구조 및 atom , STM -> **멀티스레드(Coroutine) 프로그래밍에 강점**<br>"
   ]
  },
  {
   "cell_type": "code",
   "execution_count": 48,
   "metadata": {},
   "outputs": [
    {
     "name": "stdout",
     "output_type": "stream",
     "text": [
      "200\n",
      "1100\n"
     ]
    }
   ],
   "source": [
    "a = 100\n",
    "print(a + 100)\n",
    "print(a + 1000)\n",
    "# 결과 누적(함수 사용)"
   ]
  },
  {
   "cell_type": "code",
   "execution_count": 49,
   "metadata": {},
   "outputs": [
    {
     "name": "stdout",
     "output_type": "stream",
     "text": [
      "1275\n",
      "1275\n"
     ]
    }
   ],
   "source": [
    "from functools import reduce\n",
    "print(sum(range(1,51)))\n",
    "print(reduce(lambda x, y : x + y , range(1,51)))\n"
   ]
  },
  {
   "cell_type": "code",
   "execution_count": 52,
   "metadata": {},
   "outputs": [
    {
     "name": "stdout",
     "output_type": "stream",
     "text": [
      "inner >> [10] / 1\n",
      "10.0\n",
      "inner >> [10, 30] / 2\n",
      "20.0\n",
      "inner >> [10, 30, 50] / 3\n",
      "30.0\n",
      "inner >> [10, 30, 50, 193] / 4\n",
      "70.75\n"
     ]
    }
   ],
   "source": [
    "# 클래스 이용\n",
    "class Averager():\n",
    "    def __init__(self):\n",
    "        self._series = []\n",
    "    \n",
    "    def __call__(self, v): # 클래스를 함수처럼 사용 (매직메소드)\n",
    "        self._series.append(v)\n",
    "        print('inner >> {} / {}'.format(self._series, len(self._series)))\n",
    "        return sum(self._series) / len(self._series)\n",
    "averager_cls = Averager() # __init__에 argument를 요구 (0개)\n",
    "# print(dir(averager_cls)) # __call__ 함수로써 호출 가능\n",
    "\n",
    "# 누적\n",
    "print(averager_cls(10))\n",
    "print(averager_cls(30))\n",
    "print(averager_cls(50))\n",
    "print(averager_cls(193))"
   ]
  },
  {
   "cell_type": "markdown",
   "metadata": {},
   "source": [
    "이게 클로저의 개념 이다! 함수는 종료 되었지만 **자유 영역에 있는 상태를 기억하고** 있다."
   ]
  },
  {
   "cell_type": "markdown",
   "metadata": {},
   "source": [
    "### 클로저 (심화)\n",
    "클로저 : 외부에서 호출된 함수의 변수값, 상태(레퍼런스) 복사 후 저장 -> 후에 접근(엑세스) 가능<br>\n",
    "my note : 클로저는 함수형 프로그래밍에서 언어가 지원을 해줘야만 가능하다.<br>\n",
    "**nonlocal** : global 같은 역활"
   ]
  },
  {
   "cell_type": "code",
   "execution_count": 60,
   "metadata": {},
   "outputs": [
    {
     "name": "stdout",
     "output_type": "stream",
     "text": [
      "<function closure_ex1.<locals>.averager at 0x000001E5FFA1A550>\n",
      "inner >>> [10] / 1\n",
      "10.0\n",
      "inner >>> [10, 20] / 2\n",
      "15.0\n",
      "inner >>> [10, 20, 30] / 3\n",
      "20.0\n"
     ]
    }
   ],
   "source": [
    "### closure 사용\n",
    "def closure_ex1():\n",
    "    # Free variable\n",
    "    # 클로저 영역\n",
    "    series = []\n",
    "    def averager(v):\n",
    "        series.append(v)\n",
    "        print('inner >>> {} / {}'.format(series, len(series)))\n",
    "        return sum(series) / len(series)\n",
    "    return averager # 4. 함수를 결과로 반환 가능(return)\n",
    "\n",
    "avg_closure1 = closure_ex1()\n",
    "print(avg_closure1) # 함수가 리턴됨\n",
    "print(avg_closure1(10))\n",
    "print(avg_closure1(20))\n",
    "print(avg_closure1(30))"
   ]
  },
  {
   "cell_type": "code",
   "execution_count": 70,
   "metadata": {},
   "outputs": [
    {
     "name": "stdout",
     "output_type": "stream",
     "text": [
      "['__annotations__', '__call__', '__class__', '__closure__', '__code__', '__defaults__', '__delattr__', '__dict__', '__dir__', '__doc__', '__eq__', '__format__', '__ge__', '__get__', '__getattribute__', '__globals__', '__gt__', '__hash__', '__init__', '__init_subclass__', '__kwdefaults__', '__le__', '__lt__', '__module__', '__name__', '__ne__', '__new__', '__qualname__', '__reduce__', '__reduce_ex__', '__repr__', '__setattr__', '__sizeof__', '__str__', '__subclasshook__']\n",
      "\n",
      "['__class__', '__delattr__', '__dir__', '__doc__', '__eq__', '__format__', '__ge__', '__getattribute__', '__gt__', '__hash__', '__init__', '__init_subclass__', '__le__', '__lt__', '__ne__', '__new__', '__reduce__', '__reduce_ex__', '__repr__', '__setattr__', '__sizeof__', '__str__', '__subclasshook__', 'co_argcount', 'co_cellvars', 'co_code', 'co_consts', 'co_filename', 'co_firstlineno', 'co_flags', 'co_freevars', 'co_kwonlyargcount', 'co_lnotab', 'co_name', 'co_names', 'co_nlocals', 'co_posonlyargcount', 'co_stacksize', 'co_varnames', 'replace']\n",
      "\n",
      "('series',)\n",
      "\n",
      "[10, 20, 30]\n"
     ]
    }
   ],
   "source": [
    "# function inspection( 함수 내부)\n",
    "print(dir(avg_closure1)) # '__closure__'\n",
    "print()\n",
    "print(dir(avg_closure1.__code__)) # co_freevars : Free variable\n",
    "print()\n",
    "print(avg_closure1.__code__.co_freevars) # 자유 영역에서 존재하는 변수를 확인/증명\n",
    "print()\n",
    "print(avg_closure1.__closure__[0].cell_contents) # 함수가 끝나도 값을 갖고 있다."
   ]
  },
  {
   "cell_type": "markdown",
   "metadata": {},
   "source": [
    "<hr></hr>\n",
    "\n",
    "**잘못된 클로저 사용**"
   ]
  },
  {
   "cell_type": "code",
   "execution_count": 72,
   "metadata": {},
   "outputs": [
    {
     "ename": "UnboundLocalError",
     "evalue": "local variable 'cnt' referenced before assignment",
     "output_type": "error",
     "traceback": [
      "\u001b[1;31m---------------------------------------------------------------------------\u001b[0m",
      "\u001b[1;31mUnboundLocalError\u001b[0m                         Traceback (most recent call last)",
      "\u001b[1;32m<ipython-input-72-3979c084e763>\u001b[0m in \u001b[0;36m<module>\u001b[1;34m\u001b[0m\n\u001b[0;32m      9\u001b[0m     \u001b[1;32mreturn\u001b[0m \u001b[0maverager\u001b[0m\u001b[1;33m\u001b[0m\u001b[1;33m\u001b[0m\u001b[0m\n\u001b[0;32m     10\u001b[0m \u001b[0mavg_closure2\u001b[0m \u001b[1;33m=\u001b[0m \u001b[0mclosure_ex2\u001b[0m\u001b[1;33m(\u001b[0m\u001b[1;33m)\u001b[0m\u001b[1;33m\u001b[0m\u001b[1;33m\u001b[0m\u001b[0m\n\u001b[1;32m---> 11\u001b[1;33m \u001b[0mprint\u001b[0m\u001b[1;33m(\u001b[0m\u001b[0mavg_closure2\u001b[0m\u001b[1;33m(\u001b[0m\u001b[1;36m2\u001b[0m\u001b[1;33m)\u001b[0m\u001b[1;33m)\u001b[0m\u001b[1;33m\u001b[0m\u001b[1;33m\u001b[0m\u001b[0m\n\u001b[0m",
      "\u001b[1;32m<ipython-input-72-3979c084e763>\u001b[0m in \u001b[0;36maverager\u001b[1;34m(v)\u001b[0m\n\u001b[0;32m      4\u001b[0m     \u001b[0mtotal\u001b[0m \u001b[1;33m=\u001b[0m \u001b[1;36m0\u001b[0m\u001b[1;33m\u001b[0m\u001b[1;33m\u001b[0m\u001b[0m\n\u001b[0;32m      5\u001b[0m     \u001b[1;32mdef\u001b[0m \u001b[0maverager\u001b[0m\u001b[1;33m(\u001b[0m\u001b[0mv\u001b[0m\u001b[1;33m)\u001b[0m\u001b[1;33m:\u001b[0m\u001b[1;33m\u001b[0m\u001b[1;33m\u001b[0m\u001b[0m\n\u001b[1;32m----> 6\u001b[1;33m         \u001b[0mcnt\u001b[0m \u001b[1;33m+=\u001b[0m \u001b[1;36m1\u001b[0m\u001b[1;33m\u001b[0m\u001b[1;33m\u001b[0m\u001b[0m\n\u001b[0m\u001b[0;32m      7\u001b[0m         \u001b[0mtotal\u001b[0m \u001b[1;33m+=\u001b[0m \u001b[0mv\u001b[0m\u001b[1;33m\u001b[0m\u001b[1;33m\u001b[0m\u001b[0m\n\u001b[0;32m      8\u001b[0m         \u001b[1;32mreturn\u001b[0m \u001b[0mtotal\u001b[0m \u001b[1;33m/\u001b[0m \u001b[0mcnt\u001b[0m\u001b[1;33m\u001b[0m\u001b[1;33m\u001b[0m\u001b[0m\n",
      "\u001b[1;31mUnboundLocalError\u001b[0m: local variable 'cnt' referenced before assignment"
     ]
    }
   ],
   "source": [
    "def closure_ex2():\n",
    "    # Free variable\n",
    "    cnt = 0\n",
    "    total = 0\n",
    "    def averager(v):\n",
    "        cnt += 1 # 이 cnt가 free variable의 cnt인지 확인시켜줘야 한다.\n",
    "        total += v\n",
    "        return total / cnt\n",
    "    return averager\n",
    "avg_closure2 = closure_ex2()\n",
    "print(avg_closure2(2))"
   ]
  },
  {
   "cell_type": "code",
   "execution_count": 74,
   "metadata": {},
   "outputs": [
    {
     "name": "stdout",
     "output_type": "stream",
     "text": [
      "2.0\n"
     ]
    }
   ],
   "source": [
    "def closure_ex3():\n",
    "    # Free variable\n",
    "    cnt = 0\n",
    "    total = 0\n",
    "    def averager(v):\n",
    "        nonlocal cnt, total # 필수!\n",
    "        cnt += 1 # 이 cnt가 free variable의 cnt인지 확인시켜줘야 한다.\n",
    "        total += v\n",
    "        return total / cnt\n",
    "    return averager\n",
    "avg_closure2 = closure_ex3()\n",
    "print(avg_closure2(2))"
   ]
  },
  {
   "cell_type": "markdown",
   "metadata": {},
   "source": [
    "함수 내에서 global을 쓰는 것은 좋지 않다. <br>\n",
    "함수의 본연의 기능이 끝나면 그 함수는 끝난 상태로 둬고 재사용 가능하게 냅두면 되는데 전역변수가 있다면 나중에 디버깅하기 힘들다.<br>"
   ]
  },
  {
   "cell_type": "markdown",
   "metadata": {},
   "source": [
    "## 데코레이터\n",
    "Ex) @classmethod    @staticmethod<br>\n",
    "\n",
    "**장점**\n",
    " - 중복 제거, 코드 간결, 공통 함수 작성\n",
    " - 로깅, 프레임워크(flask, django, tensorflow), 유효성체크 -> 공통 기능\n",
    " - 조합해서 사용 용이\n",
    "\n",
    "\n",
    "**단점**\n",
    " - 가독성 감소\n",
    " - 특정 기능에 한정된 함수는 -> 단일 함수로 작성하는 것이 유리\n",
    " - 디버깅이 불편하다."
   ]
  },
  {
   "cell_type": "code",
   "execution_count": 85,
   "metadata": {},
   "outputs": [],
   "source": [
    "# 데코레이터 실습\n",
    "# 작동 시간, 접속자가 그 페이지에서 있었던 시간 등 공통기능 제작에 절약 가능.\n",
    "import time\n",
    "def perf_clock(func):\n",
    "    def perf_clocked(*args): # 클로저 형태\n",
    "        #함수 시작 시간\n",
    "        st = time.perf_counter()\n",
    "        result = func(*args)\n",
    "        # 함수 종료 시간\n",
    "        et = time.perf_counter() - st\n",
    "        #실행 함수명\n",
    "        name = func.__name__\n",
    "        #함수 매개 변수\n",
    "        arg_str  = ', '.join(repr(arg) for arg in args) # 제너레이터\n",
    "        #결과 출력\n",
    "        print('[%0.5fs]%s(%s) -> %r'%(et,name,arg_str,result))\n",
    "        \n",
    "        return result\n",
    "    return perf_clocked\n"
   ]
  },
  {
   "cell_type": "code",
   "execution_count": 106,
   "metadata": {},
   "outputs": [],
   "source": [
    "\n",
    "def time_func(seconds) :\n",
    "    time.sleep(seconds)\n",
    "\n",
    "def sum_func(*numbers):\n",
    "    return sum(numbers)\n"
   ]
  },
  {
   "cell_type": "code",
   "execution_count": 107,
   "metadata": {},
   "outputs": [
    {
     "name": "stdout",
     "output_type": "stream",
     "text": [
      "<function perf_clock.<locals>.perf_clocked at 0x000001E5FF382700> ('func',)\n",
      "<function perf_clock.<locals>.perf_clocked at 0x000001E5FF3829D0> ('func',)\n"
     ]
    }
   ],
   "source": [
    "#데코레이터 미 사용\n",
    "none_deco1 = perf_clock(time_func)\n",
    "none_deco2 = perf_clock(sum_func)\n",
    "\n",
    "print(none_deco1, none_deco1.__code__.co_freevars)\n",
    "print(none_deco2, none_deco2.__code__.co_freevars)"
   ]
  },
  {
   "cell_type": "code",
   "execution_count": 108,
   "metadata": {},
   "outputs": [
    {
     "name": "stdout",
     "output_type": "stream",
     "text": [
      "---------------------------------------- Called None Decorator -> time_func\n",
      "\n",
      "[1.49987s]time_func(1.5) -> None\n"
     ]
    }
   ],
   "source": [
    "print('-' * 40, 'Called None Decorator -> time_func')\n",
    "print()\n",
    "none_deco1(1.5)"
   ]
  },
  {
   "cell_type": "code",
   "execution_count": 111,
   "metadata": {},
   "outputs": [
    {
     "name": "stdout",
     "output_type": "stream",
     "text": [
      "---------------------------------------- Called None Decorator -> sum_func\n",
      "\n",
      "[0.00000s]sum_func(100, 200, 300, 400, 500) -> 1500\n"
     ]
    },
    {
     "data": {
      "text/plain": [
       "1500"
      ]
     },
     "execution_count": 111,
     "metadata": {},
     "output_type": "execute_result"
    }
   ],
   "source": [
    "print('-' * 40, 'Called None Decorator -> sum_func')\n",
    "print()\n",
    "none_deco2(100, 200, 300 ,400 ,500)"
   ]
  },
  {
   "cell_type": "code",
   "execution_count": 113,
   "metadata": {},
   "outputs": [
    {
     "name": "stdout",
     "output_type": "stream",
     "text": [
      "---------------------------------------- Called None Decorator -> time_func\n",
      "[1.49995s]time_func(1.5) -> None\n",
      "---------------------------------------- Called None Decorator -> sum_func\n",
      "[0.00000s]sum_func(100, 200, 300, 400, 500) -> 1500\n"
     ]
    },
    {
     "data": {
      "text/plain": [
       "1500"
      ]
     },
     "execution_count": 113,
     "metadata": {},
     "output_type": "execute_result"
    }
   ],
   "source": [
    "# 데코레이터 사용\n",
    "@perf_clock\n",
    "def time_func(seconds) :\n",
    "    time.sleep(seconds)\n",
    "@perf_clock\n",
    "def sum_func(*numbers):\n",
    "    return sum(numbers)\n",
    "print('-' * 40, 'Called None Decorator -> time_func')\n",
    "time_func(1.5)\n",
    "print('-' * 40, 'Called None Decorator -> sum_func')\n",
    "sum_func(100, 200, 300 ,400 ,500)"
   ]
  },
  {
   "cell_type": "markdown",
   "metadata": {},
   "source": [
    "아이디를 입력해주세요. 비밀전호를 입력해주세요. 비밀번호는 8자리 이상입니다. 아이디가 필요합니다 등등 <br>\n",
    "모든 기능들을 데코레이터로 구현해놓고 쓸 수 있다. django나 flask등에서 사용할 수 있다. <br>"
   ]
  },
  {
   "cell_type": "markdown",
   "metadata": {},
   "source": []
  },
  {
   "cell_type": "code",
   "execution_count": null,
   "metadata": {},
   "outputs": [],
   "source": []
  }
 ],
 "metadata": {
  "kernelspec": {
   "display_name": "Python 3",
   "language": "python",
   "name": "python3"
  },
  "language_info": {
   "codemirror_mode": {
    "name": "ipython",
    "version": 3
   },
   "file_extension": ".py",
   "mimetype": "text/x-python",
   "name": "python",
   "nbconvert_exporter": "python",
   "pygments_lexer": "ipython3",
   "version": "3.8.5"
  }
 },
 "nbformat": 4,
 "nbformat_minor": 4
}
