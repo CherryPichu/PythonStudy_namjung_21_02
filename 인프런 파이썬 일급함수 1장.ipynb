{
 "cells": [
  {
   "cell_type": "markdown",
   "metadata": {},
   "source": [
    "## 함수형 프로그래밍 언어: 파이썬\n",
    "함수형 프로그래밍 언어를 사용하면 코드를 간결하게 작성할 수 있어 개발 시간을 단축할 수 있고, 함수형 프로그래밍 언어가 부작용(Side Effffect)를 허용하지 않는<br>\n",
    "**순수 함수(Pure Function)**를 지향하여 동시에 여러 스레드에서 문제 없이 동작하는 프로그래밍을 쉽게 작성 할 수 있다.<br>\n",
    "해당 문법의 일급 함수의 특징을 캐치하고 또 그거에 대한 특성을 정확하게 파악한 다음에 프로그래밍을 할 수 있는 코딩 기법.\n",
    "\n",
    " - **인프런 파이썬 중급 강의 노트**"
   ]
  },
  {
   "cell_type": "code",
   "execution_count": 7,
   "metadata": {},
   "outputs": [
    {
     "name": "stdout",
     "output_type": "stream",
     "text": [
      "120\n",
      "Factorial Function -> n : int\n",
      "<class 'function'> <class 'type'>\n",
      "['__annotations__', '__call__', '__class__', '__closure__', '__code__', '__defaults__', '__delattr__', '__dict__', '__dir__', '__doc__', '__eq__', '__format__', '__ge__', '__get__', '__getattribute__', '__globals__', '__gt__', '__hash__', '__init__', '__init_subclass__', '__kwdefaults__', '__le__', '__lt__', '__module__', '__name__', '__ne__', '__new__', '__qualname__', '__reduce__', '__reduce_ex__', '__repr__', '__setattr__', '__sizeof__', '__str__', '__subclasshook__']\n",
      "---------------\n",
      "{'__globals__', '__qualname__', '__code__', '__defaults__', '__closure__', '__kwdefaults__', '__get__', '__annotations__', '__call__', '__name__'}\n",
      "factorial\n",
      "<code object factorial at 0x00000169EDAA2D40, file \"<ipython-input-7-fe66615b4b81>\", line 10>\n"
     ]
    }
   ],
   "source": [
    "# chapter05-01\n",
    "# 일급 함수(일급 객체)\n",
    "# 파이썬 함수 특징\n",
    "# 1. 런타임 초기화\n",
    "# 2. 변수 할당 가능\n",
    "# 3. 함수 인수 전달 가능\n",
    "# 4. 함수 결과 반환 가능(return)\n",
    "\n",
    "# 함수객체\n",
    "def factorial(n):\n",
    "    '''Factorial Function -> n : int'''\n",
    "    if n == 1: # n < 2\n",
    "        return 1\n",
    "    return n * factorial(n-1)\n",
    "\n",
    "class A :\n",
    "    pass\n",
    "    \n",
    "# 클래스와 함수. 함수는 일급 객체 취급을 할까?\n",
    "print(factorial(5))\n",
    "print(factorial.__doc__)\n",
    "print(type(factorial), type(A))\n",
    "print(dir(factorial))\n",
    "print(\"---------------\")\n",
    "print(set(sorted(dir(factorial))) - set(sorted(dir(A))))\n",
    "print(factorial.__name__)\n",
    "print(factorial.__code__)"
   ]
  },
  {
   "cell_type": "markdown",
   "metadata": {},
   "source": [
    "<hr>\n",
    "<class 'function'> <class 'type'><br>\n",
    "함수는 **일급 객체** 이므로 클래스가 아니지만 **객체 취급**을 한다.<br>\n",
    "dir(factorial)<br>\n",
    "함수지만 함수안에서 다양한 함수를 갖고 있다. -> 객체 취급을 한다.<br>\n",
    "\n",
    "* 파이썬하고 자바스크립트는 함수형 프로그래밍을 지향하면서 함수와 클래스에는 기능적 차이는 있어도 같은 **객체로써 취급**한다. (my_thinking)\n",
    "* 즉 함수형 프로그래밍에서 함수는 클래스와 동일하게 객체이다.\n",
    "\n",
    "set(sorted(dir(factorial))) - set(sorted(dir(A))) : 함수만 갖고 있는 기능등을 보여준다..<br>\n",
    "대표적으로 :  **'__globals__' , '__closure__' , '__call__'**.<br>\n",
    "<br>\n",
    "함수를 변수에 할당"
   ]
  },
  {
   "cell_type": "code",
   "execution_count": 13,
   "metadata": {},
   "outputs": [
    {
     "name": "stdout",
     "output_type": "stream",
     "text": [
      "<function factorial at 0x00000169ED516E50>\n",
      "3628800\n",
      "[1, 2, 6, 24, 120, 720, 5040, 40320, 362880, 3628800]\n"
     ]
    }
   ],
   "source": [
    "var_func = factorial\n",
    "print(var_func)\n",
    "print(var_func(10))\n",
    "print(list(map(var_func,range(1,11)))) # 1부터 10까지의 팩토리얼을 뽑아낸다."
   ]
  },
  {
   "cell_type": "markdown",
   "metadata": {},
   "source": [
    "함수 인수 전달 및 함수로 결과 반환 -> **고위 함수(Higher-order function)**<br>\n",
    "**Higher-order Function(고위 함수) 란**\n",
    "- 함수의 매개변수의 인수로 전달이 될수 있고\n",
    "- 함수로 결과를 반환할 수 있는 것을 말한다.<br>\n",
    "(First-class Function이 성립되는 3조건 중 2개만 만족한다.)"
   ]
  },
  {
   "cell_type": "markdown",
   "metadata": {},
   "source": [
    "map, filter, reduce 함수 정리"
   ]
  },
  {
   "cell_type": "code",
   "execution_count": 16,
   "metadata": {},
   "outputs": [
    {
     "name": "stdout",
     "output_type": "stream",
     "text": [
      "[1, 6, 120]\n"
     ]
    }
   ],
   "source": [
    "print([var_func(i) for i in range(1, 6) if i % 2])"
   ]
  },
  {
   "cell_type": "code",
   "execution_count": 23,
   "metadata": {},
   "outputs": [
    {
     "name": "stdout",
     "output_type": "stream",
     "text": [
      "[1, 6, 120]\n"
     ]
    }
   ],
   "source": [
    "print(list(map(var_func, filter(lambda x : x % 2, range(1,6))))) \n",
    "# map(A, B)은 A함수에 B의 시퀀스를 차례대로 만들어서 반환한다. filter(조건 함수, 순회 가능한 데이터) lambda x : x % 2 함수가 0(False)이 아닌 숫자만 리턴하는 숫자만 리턴한다."
   ]
  },
  {
   "cell_type": "markdown",
   "metadata": {},
   "source": [
    "**reduce(집계 함수, 순회 가능한 데이터[, 초기값])**<br>\n",
    "기본적으로 초기값을 기준으로 데이터를 루프 돌면서 집계 함수를 계속해서 적용하면서 데이터를 누적하는 방식으로 작동한다. <br>\n",
    "직접 만들 수 있고 import 할 수도 있다.<br>\n",
    "import 방법<br>"
   ]
  },
  {
   "cell_type": "code",
   "execution_count": 41,
   "metadata": {},
   "outputs": [
    {
     "name": "stdout",
     "output_type": "stream",
     "text": [
      "55\n",
      "55\n"
     ]
    }
   ],
   "source": [
    "from functools import reduce\n",
    "\n",
    "def add_some(a,b):\n",
    "    return a+b\n",
    "\n",
    "print(reduce(add_some, range(1, 11))) # 두개씩 받으면서 앞에꺼와 뒤에 것을 계속 누적시키면서 집게한다.\n",
    "print(sum(range(1,11)))\n",
    "# [1,2,3,4~~] -> 1+2 = 3 +4 = 7 + 5 = 11 + ....."
   ]
  },
  {
   "cell_type": "markdown",
   "metadata": {},
   "source": [
    "익명함수 (lambda)\n",
    "**가급적 주석을 작성해라!! 특히 복잡한 함수!!**<br> \n",
    "**또 가급적 함수를 작성해라!! 일반 함수 형태로 리팩토링 권장!!** <br>\n"
   ]
  },
  {
   "cell_type": "code",
   "execution_count": 40,
   "metadata": {},
   "outputs": [
    {
     "name": "stdout",
     "output_type": "stream",
     "text": [
      "55\n"
     ]
    }
   ],
   "source": [
    "print(reduce(lambda x, t : x + t , range(1, 11)))"
   ]
  },
  {
   "cell_type": "markdown",
   "metadata": {},
   "source": [
    "**Callable : 호출 연산자** <br>\n",
    "-> 메소드 형태로 호출 가능한지 확인!"
   ]
  },
  {
   "cell_type": "code",
   "execution_count": 45,
   "metadata": {},
   "outputs": [
    {
     "name": "stdout",
     "output_type": "stream",
     "text": [
      "True True\n",
      "True True False\n"
     ]
    }
   ],
   "source": [
    "print(callable(str), callable(A)) # str('a') class A\n",
    "print(callable(var_func), callable(factorial), callable(3.14)) # flote는 call 할 수 없다."
   ]
  },
  {
   "cell_type": "markdown",
   "metadata": {},
   "source": [
    "**partial 사용법 : 인수 고정 -> 콜백 함수 사용"
   ]
  },
  {
   "cell_type": "code",
   "execution_count": 53,
   "metadata": {},
   "outputs": [
    {
     "name": "stdout",
     "output_type": "stream",
     "text": [
      "100\n",
      "50\n",
      "[5, 10, 15, 20, 25, 30, 35, 40, 45, 50]\n",
      "[5, 10, 15, 20, 25, 30, 35, 40, 45, 50]\n"
     ]
    }
   ],
   "source": [
    "from operator import mul\n",
    "from functools import partial\n",
    "print(mul(10,10)) # 앞에 10은 고정하고 뒤에 10을 유동적으로 바꾸고 싶다.\n",
    "\n",
    "#인수 고정\n",
    "five = partial(mul, 5) # 5 * ? 함수를 인자로 전달이 가능하고, 함수를 변수에 할당할 수 있다 -> 일급 함수의 특징\n",
    "#고정 추가\n",
    "six = partial(five,6)\n",
    "print(five(10)) # 5 * 10\n",
    "# print(six(10)) # error: mul expected 2 arguments, got 3\n",
    "print([five(i) for i in range(1, 11)]) # 5의 배수\n",
    "print(list(map(five, range(1, 11))))"
   ]
  },
  {
   "cell_type": "code",
   "execution_count": null,
   "metadata": {},
   "outputs": [],
   "source": []
  }
 ],
 "metadata": {
  "kernelspec": {
   "display_name": "Python 3",
   "language": "python",
   "name": "python3"
  },
  "language_info": {
   "codemirror_mode": {
    "name": "ipython",
    "version": 3
   },
   "file_extension": ".py",
   "mimetype": "text/x-python",
   "name": "python",
   "nbconvert_exporter": "python",
   "pygments_lexer": "ipython3",
   "version": "3.8.5"
  }
 },
 "nbformat": 4,
 "nbformat_minor": 4
}
